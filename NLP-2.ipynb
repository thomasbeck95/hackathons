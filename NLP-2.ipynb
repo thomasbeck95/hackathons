{
 "cells": [
  {
   "cell_type": "code",
   "execution_count": 100,
   "metadata": {},
   "outputs": [
    {
     "name": "stderr",
     "output_type": "stream",
     "text": [
      "[nltk_data] Downloading package vader_lexicon to\n",
      "[nltk_data]     C:\\Users\\c24085394\\AppData\\Roaming\\nltk_data...\n",
      "[nltk_data]   Package vader_lexicon is already up-to-date!\n"
     ]
    },
    {
     "data": {
      "text/plain": [
       "True"
      ]
     },
     "execution_count": 100,
     "metadata": {},
     "output_type": "execute_result"
    }
   ],
   "source": [
    "import requests\n",
    "import json\n",
    "import nltk\n",
    "import re\n",
    "import pandas as pd\n",
    "from datetime import datetime, timedelta, timezone\n",
    "\n",
    "from nltk.sentiment.vader import SentimentIntensityAnalyzer\n",
    "nltk.download('vader_lexicon')"
   ]
  },
  {
   "cell_type": "code",
   "execution_count": 102,
   "metadata": {},
   "outputs": [],
   "source": [
    "API_URL = \"https://zfgp45ih7i.execute-api.eu-west-1.amazonaws.com/sandbox/api/search\"\n",
    "API_KEY = \"STU38746G38B7RB46GBER\"\n",
    "\n",
    "headers = {\n",
    "    \"Content-Type\": \"application/json\",\n",
    "    \"x-api-key\": API_KEY\n",
    "}\n",
    "\n",
    "\n",
    "query_text = \"what is happening in los angeles?\"\n",
    "\n",
    "payload = {\n",
    "    \"query_text\": query_text,\n",
    "    \"result_size\": 100,  \n",
    "    \"include_highlights\": False,\n",
    "    \"include_smart_tags\": False\n",
    "}\n",
    "\n",
    "try:\n",
    "    response = requests.post(API_URL, headers=headers, data=json.dumps(payload), timeout=15)\n",
    "    response.raise_for_status()\n",
    "    json_response = response.json()\n",
    "except requests.exceptions.RequestException as e:\n",
    "    print(f\"❌ Request failed: {e}\")\n",
    "    json_response = None\n",
    "\n",
    "if not json_response or 'results' not in json_response:\n",
    "    raise ValueError(\"❌ No results returned from the API.\")\n",
    "\n"
   ]
  },
  {
   "cell_type": "code",
   "execution_count": 113,
   "metadata": {},
   "outputs": [
    {
     "data": {
      "text/plain": [
       "{'id': 'DL-596599c6f2d722d44f6706f8ffed8844',\n",
       " 'title': 'Los Angeles Consulting Group June Events 2025',\n",
       " 'url': 'https://missionmatters.com/los-angeles-consulting-group-june-events-2025',\n",
       " 'summary': 'Adam Torres and Kathleen Tepley, Founder of Los Angeles Consulting Group, discuss upcoming events. LACG hosts two different business development advisory practices, both managed by Kathleen. It’s one of our monthly episodes where we bring Kathleen Epley on the line.',\n",
       " 'score': 104.8759,\n",
       " 'timestamp': '2025-06-03T14:57:05+00:00'}"
      ]
     },
     "execution_count": 113,
     "metadata": {},
     "output_type": "execute_result"
    }
   ],
   "source": [
    "json_response['results'][0]"
   ]
  },
  {
   "cell_type": "code",
   "execution_count": 114,
   "metadata": {},
   "outputs": [
    {
     "data": {
      "text/html": [
       "<div>\n",
       "<style scoped>\n",
       "    .dataframe tbody tr th:only-of-type {\n",
       "        vertical-align: middle;\n",
       "    }\n",
       "\n",
       "    .dataframe tbody tr th {\n",
       "        vertical-align: top;\n",
       "    }\n",
       "\n",
       "    .dataframe thead th {\n",
       "        text-align: right;\n",
       "    }\n",
       "</style>\n",
       "<table border=\"1\" class=\"dataframe\">\n",
       "  <thead>\n",
       "    <tr style=\"text-align: right;\">\n",
       "      <th></th>\n",
       "      <th>id</th>\n",
       "      <th>title</th>\n",
       "      <th>url</th>\n",
       "      <th>summary</th>\n",
       "      <th>score</th>\n",
       "      <th>timestamp</th>\n",
       "    </tr>\n",
       "  </thead>\n",
       "  <tbody>\n",
       "    <tr>\n",
       "      <th>0</th>\n",
       "      <td>DL-596599c6f2d722d44f6706f8ffed8844</td>\n",
       "      <td>Los Angeles Consulting Group June Events 2025</td>\n",
       "      <td>https://missionmatters.com/los-angeles-consult...</td>\n",
       "      <td>Adam Torres and Kathleen Tepley, Founder of Lo...</td>\n",
       "      <td>104.87590</td>\n",
       "      <td>2025-06-03T14:57:05+00:00</td>\n",
       "    </tr>\n",
       "    <tr>\n",
       "      <th>1</th>\n",
       "      <td>DL-c5e2f9b702ab3cb72dbc648e224d8293</td>\n",
       "      <td>Big Bear eaglet update: Sunny returns home fro...</td>\n",
       "      <td>https://www.nbclosangeles.com/news/local/big-b...</td>\n",
       "      <td>Sunny flapped her wings back home at around 11...</td>\n",
       "      <td>100.84105</td>\n",
       "      <td>2025-06-03T12:51:59</td>\n",
       "    </tr>\n",
       "    <tr>\n",
       "      <th>2</th>\n",
       "      <td>DL-d640b07f53c4a166f41599499cb31e74</td>\n",
       "      <td>European stocks mixed as trade tensions and U....</td>\n",
       "      <td>https://www.nbclosangeles.com/news/business/mo...</td>\n",
       "      <td>Tesla selloff Stream Los Angeles News for free...</td>\n",
       "      <td>97.43178</td>\n",
       "      <td>2025-06-05T23:07:47</td>\n",
       "    </tr>\n",
       "    <tr>\n",
       "      <th>3</th>\n",
       "      <td>DL-eed9e602d916f1d088aee98f614873d0</td>\n",
       "      <td>Cinespia’s big July line-up opens with ‘Top Gun’</td>\n",
       "      <td>https://www.nbclosangeles.com/the-scene/cinesp...</td>\n",
       "      <td>\"The Addams Family\" screens July 26 $24.11 and...</td>\n",
       "      <td>91.50728</td>\n",
       "      <td>2025-06-03T13:48:24</td>\n",
       "    </tr>\n",
       "    <tr>\n",
       "      <th>4</th>\n",
       "      <td>DL-ae117e8454b80d830cf8760d6d0119b3</td>\n",
       "      <td>Los Angeles immigration raid protests update</td>\n",
       "      <td>https://www.publicradiotulsa.org/2025-06-08/lo...</td>\n",
       "      <td>SCOTT DETROW: We're going to hear one more voi...</td>\n",
       "      <td>84.96997</td>\n",
       "      <td>2025-06-08T17:58:36</td>\n",
       "    </tr>\n",
       "  </tbody>\n",
       "</table>\n",
       "</div>"
      ],
      "text/plain": [
       "                                    id  \\\n",
       "0  DL-596599c6f2d722d44f6706f8ffed8844   \n",
       "1  DL-c5e2f9b702ab3cb72dbc648e224d8293   \n",
       "2  DL-d640b07f53c4a166f41599499cb31e74   \n",
       "3  DL-eed9e602d916f1d088aee98f614873d0   \n",
       "4  DL-ae117e8454b80d830cf8760d6d0119b3   \n",
       "\n",
       "                                               title  \\\n",
       "0      Los Angeles Consulting Group June Events 2025   \n",
       "1  Big Bear eaglet update: Sunny returns home fro...   \n",
       "2  European stocks mixed as trade tensions and U....   \n",
       "3   Cinespia’s big July line-up opens with ‘Top Gun’   \n",
       "4       Los Angeles immigration raid protests update   \n",
       "\n",
       "                                                 url  \\\n",
       "0  https://missionmatters.com/los-angeles-consult...   \n",
       "1  https://www.nbclosangeles.com/news/local/big-b...   \n",
       "2  https://www.nbclosangeles.com/news/business/mo...   \n",
       "3  https://www.nbclosangeles.com/the-scene/cinesp...   \n",
       "4  https://www.publicradiotulsa.org/2025-06-08/lo...   \n",
       "\n",
       "                                             summary      score  \\\n",
       "0  Adam Torres and Kathleen Tepley, Founder of Lo...  104.87590   \n",
       "1  Sunny flapped her wings back home at around 11...  100.84105   \n",
       "2  Tesla selloff Stream Los Angeles News for free...   97.43178   \n",
       "3  \"The Addams Family\" screens July 26 $24.11 and...   91.50728   \n",
       "4  SCOTT DETROW: We're going to hear one more voi...   84.96997   \n",
       "\n",
       "                   timestamp  \n",
       "0  2025-06-03T14:57:05+00:00  \n",
       "1        2025-06-03T12:51:59  \n",
       "2        2025-06-05T23:07:47  \n",
       "3        2025-06-03T13:48:24  \n",
       "4        2025-06-08T17:58:36  "
      ]
     },
     "execution_count": 114,
     "metadata": {},
     "output_type": "execute_result"
    }
   ],
   "source": [
    "df = pd.json_normalize(json_response['results'])\n",
    "\n",
    "df.head()"
   ]
  },
  {
   "cell_type": "code",
   "execution_count": 115,
   "metadata": {},
   "outputs": [],
   "source": [
    "def clean_text(text):\n",
    "    if not isinstance(text, str):\n",
    "        return \"\"\n",
    "    text = re.sub(r\"http\\S+|www\\.\\S+\", \"\", text)\n",
    "    text = text.lower()\n",
    "    text = re.sub(r\"[^a-z\\s]\", \" \", text)\n",
    "    text = re.sub(r\"\\s+\", \" \", text).strip()\n",
    "    return text"
   ]
  },
  {
   "cell_type": "code",
   "execution_count": 116,
   "metadata": {},
   "outputs": [],
   "source": [
    "sia = SentimentIntensityAnalyzer()\n",
    "\n",
    "def get_sentiment_scores(text):\n",
    "    \"\"\"\n",
    "    Returns:\n",
    "      - neg, neu, pos, compound (-1 to +1)\n",
    "    \"\"\"\n",
    "    return sia.polarity_scores(text)"
   ]
  },
  {
   "cell_type": "code",
   "execution_count": 118,
   "metadata": {},
   "outputs": [
    {
     "name": "stdout",
     "output_type": "stream",
     "text": [
      "\n",
      "😀 Most Positive Summary:\n",
      "                                              summary  sent_compound\n",
      "37  Los Angeles County celebrates Pride Month with...         0.9666\n",
      "\n",
      "😞 Most Negative Summary:\n",
      "                                             summary  sent_compound\n",
      "8  Police say two people were shot dead on a busy...        -0.9186\n"
     ]
    }
   ],
   "source": [
    "\n",
    "\n",
    "df['published_date'] = pd.to_datetime(df['timestamp'], errors='coerce').dt.date\n",
    "\n",
    "df['clean_summary'] = df['summary'].apply(clean_text)\n",
    "df['sentiment'] = df['clean_summary'].apply(get_sentiment_scores)\n",
    "\n",
    "df['sent_neg'] = df['sentiment'].apply(lambda d: d['neg'])\n",
    "df['sent_neu'] = df['sentiment'].apply(lambda d: d['neu'])\n",
    "df['sent_pos'] = df['sentiment'].apply(lambda d: d['pos'])\n",
    "df['sent_compound'] = df['sentiment'].apply(lambda d: d['compound'])\n",
    "\n",
    "# Top/bottom sentiment summaries\n",
    "print(\"\\n😀 Most Positive Summary:\")\n",
    "print(df[['summary', 'sent_compound']].sort_values(by='sent_compound', ascending=False).head(1))\n",
    "\n",
    "print(\"\\n😞 Most Negative Summary:\")\n",
    "print(df[['summary', 'sent_compound']].sort_values(by='sent_compound').head(1))\n"
   ]
  },
  {
   "cell_type": "code",
   "execution_count": 119,
   "metadata": {},
   "outputs": [],
   "source": [
    "today = datetime.now(timezone.utc).date()\n",
    "seven_days_ago = today - timedelta(days=6)\n",
    "recent_df = df[(df['published_date'] >= seven_days_ago) & (df['published_date'] <= today)]\n",
    "\n",
    "if recent_df.empty:\n",
    "    raise ValueError(\"❗ No news results from the past 7 days.\")"
   ]
  },
  {
   "cell_type": "code",
   "execution_count": 120,
   "metadata": {},
   "outputs": [
    {
     "name": "stdout",
     "output_type": "stream",
     "text": [
      "\n",
      "📅 Daily Combined News Summary:\n",
      "\n",
      "\n",
      "📅 Date: 2025-06-03\n",
      "📝 Combined Summary of All News (6 articles):\n",
      "Adam Torres and Kathleen Tepley, Founder of Los Angeles Consulting Group, discuss upcoming events. LACG hosts two different business development advisory practices, both managed by Kathleen. It’s one of our monthly episodes where we bring Kathleen Epley on the line. The Duchess of Sussex will be honoured at the Natural History Museums of Los Angeles County. The glitzy event will imitate \"an enchanted garden at night\" with immersive exhibits, live music, and dinner served. Immediate pressure on trade and costs Since the beginning of May, the ports of Los Angeles and Long Beach have seen their activity fall by 35% over a year, according to Le Figaro. Average tariffs in the United States have risen from 2.5% to 24%, with surcharges of up to 145% on some Chinese products. This trade war by Donald Trump is causing companies to shrink. The city and county public library systems host the biggest summer reading programs in our region. The basic premise is to track your reading, visits to the l...\n",
      "\n",
      "====================================================================================================\n",
      "\n",
      "\n",
      "📅 Date: 2025-06-04\n",
      "📝 Combined Summary of All News (3 articles):\n",
      "Techcombank and ecosystem are bringing the Overseas Talent Roadshow 2025 to Europe, with the next stop set for Paris on July 4–5. Los Angeles: A Kick-Off with Over 1,000 Talents Engaged The Los Angeles event attracted nearly 1,000 Vietnamese professionals in various majors. The event featured a strategic dialogue on Vietnam’s economic outlook and the evolving role of the bank’s ecosystem in shaping new career pathways beyond traditional banking. \"I'm kind of nervous going back out there,\" 20-year-old Jacob Moan says after visiting the Inland Empire Job Corps Center. Moan has until Thursday to find another place to live in a motel until a bed opens up at the shelter. \"Society just like gave up for people in my situation,\" he says. Techcombank and ecosystem are bringing the Overseas Talent Roadshow 2025 to Europe. Los Angeles: A Kick-Off with Over 1,000 Talents Engaged The event attracted nearly 1,000 Vietnamese professionals working in technology, data, finance, and management. The Pari...\n",
      "\n",
      "====================================================================================================\n",
      "\n",
      "\n",
      "📅 Date: 2025-06-05\n",
      "📝 Combined Summary of All News (3 articles):\n",
      "Karen Garcia is a reporter on the Fast Break Desk, the team that has a pulse on breaking news at the Los Angeles Times. She was previously a reporter on the Utility Journalism Team, which focused on service journalism. Her previous stints include reporting for the San Luis Obispo New Times and KCBX Central Coast Public Radio. Trump often says the 2026 World Cup and 2028 Los Angeles Olympics are among the events he is most excited about in his second term. Yet there is significant uncertainty regarding visa policies for foreign visitors planning trips to the U.S. Here’s a look at the potential effects of the travel ban on those events. U.S. President Donald Trump often says the 2026 World Cup and 2028 Los Angeles Olympics are among the events he is most excited about in his second term. But there is significant uncertainty regarding visa policies for foreign visitors planning trips to the United States for the two biggest events in sports. Here’s a look at the potential effects of the t...\n",
      "\n",
      "====================================================================================================\n",
      "\n",
      "\n",
      "📅 Date: 2025-06-06\n",
      "📝 Combined Summary of All News (3 articles):\n",
      "President Donald Trump often says the 2026 World Cup and 2028 Los Angeles Olympics are among the events he is most excited about in his second term. But there is significant uncertainty regarding visa policies for foreign visitors planning trips to the U.S. The travel ban doesn’t mention any exceptions for fans from the targeted countries wishing to travel for the World Cup or Olympics. President Donald Trump often says the 2026 World Cup and 2028 Los Angeles Olympics are among the events he is most excited about in his second term. But there is significant uncertainty regarding visa policies for foreign visitors planning trips to the U.S. The travel ban doesn’t mention any exceptions for fans from the targeted countries wishing to travel for the World Cup or Olympics. In honor of resilience, culture, and remembrance, the Los Angeles County Department of Mental Health and community partners will present “Hye Heart, Unbroken: A Poetry Night of Remembrance” The free cultural event is ope...\n",
      "\n",
      "====================================================================================================\n",
      "\n",
      "\n",
      "📅 Date: 2025-06-07\n",
      "📝 Combined Summary of All News (5 articles):\n",
      "Border Patrol personnel deployed tear gas as bystanders and protesters gathered on medians and across the street. One hand-held sign said, “No Human Being is Illegal” The boulevard was closed to traffic as U.S. Border Patrol circulated through the area. On Friday, Immigration and Customs Enforcement officers arrested more than 40 people as they executed search warrants. Border patrol personnel deployed tear gas as bystanders and protesters gathered on medians and across the street. One hand-held sign said, “No Human Being is Illegal” The boulevard was closed to traffic as U.S. Border Patrol circulated through the area. On Friday, Immigration and Customs enforcement officers arrested more than 40 people as they executed search warrants. Metropolitan Transportation Authority of Los Angeles County celebrates opening of LAX/Metro Transit Center station. Metro is ready to welcome fans from all over the world traveling to Los Angeles for major events such as the FIFA World Cup 2026TM, Super ...\n",
      "\n",
      "====================================================================================================\n",
      "\n",
      "\n",
      "📅 Date: 2025-06-08\n",
      "📝 Combined Summary of All News (3 articles):\n",
      "Border Patrol personnel deployed tear gas as bystanders and protesters gathered on medians and across the street. One hand-held sign said, “No Human Being is Illegal” The boulevard was closed to traffic as U.S. Border Patrol circulated through the area. On Friday, Immigration and Customs Enforcement officers arrested more than 40 people as they executed search warrants. Protests and rallies happened in Paramount and Compton. The other location where there have been nightly protests is outside of a federal building in downtown Los Angeles. On Sunday, President Trump praised the work of National Guard troops. Trump’s government is assessing the possibility of activating an underused law that would allow it to detain, arrest and deport undocumented people. It would be the first time in six decades that a federal president would mobilize the National Guard in different states without the consent of state authorities. Governor Gavin Newsom and Mayor Karen Bass rejected the measure, believin...\n",
      "\n",
      "====================================================================================================\n",
      "\n",
      "\n",
      "📅 Date: 2025-06-09\n",
      "📝 Combined Summary of All News (17 articles):\n",
      "The day was marked by a climate of growing tension and a tough cross-examination of accusations between the federal administration and the Democratic authorities in California. On Sunday, 300 of the 2,000 members of the National Guard sent to Los Angeles were deployed to disperse protests against the migrant raids. The measure was taken in open defiance of California Democratic Governor Gavin Newsom. The entire of downtown Los Angeles has been declared an “unlawful assembly area” This represents a dangerous escalation that threatens the very foundations of the US democratic system. The raids were conducted in broad daylight, with a calculated boldness that seemed designed to provoke. By the afternoon, protesters had gathered downtown, not as rioters but as a grieving community. Mexican Consul Carlos González Gtez in Los Angeles said he activated the line +1 (213) 219-0175 so that people in need of help can be contacted. Mexico's President Claudia Sheinbaum expressed concern over recent...\n",
      "\n",
      "====================================================================================================\n",
      "\n",
      "\n",
      "📅 Date: 2025-06-10\n",
      "📝 Combined Summary of All News (7 articles):\n",
      "David Huerta, president of the International Union of Service Employees (IUSE) in California, was released. The news was confirmed by the SIEU. He was arrested while participating as an observer of police activity in Los Angeles protests. California Gov. Gavin Newsom suggested late Monday he could take legal action over the planned use of Marines, calling it illegal. The Secretary of Defense is illegally deploying them onto American streets so Trump can have a talking point at his parade this weekend. Members of the Marine Corps could start arriving in the area as soon as Tuesday. About 700 US Marines have been activated to respond to protests in Los Angeles. The Marines from the 2nd Battalion, 7th Marines, 1st Marine Division will join the National Guard troops. CNN was the first to report the news. California Governor Gavin Newsom responded in a post on X. Donald Trump deployed 700 active members of the elite military to the United States. In practice, a total of 1700 guards were act...\n",
      "\n",
      "====================================================================================================\n",
      "\n"
     ]
    }
   ],
   "source": [
    "print(\"\\n📅 Daily Combined News Summary:\\n\")\n",
    "\n",
    "for date in sorted(df['published_date'].dropna().unique()):\n",
    "    print(f\"\\n📅 Date: {date}\")\n",
    "    \n",
    "    # Get all summaries for the day\n",
    "    daily_summaries = df[df['published_date'] == date]['summary']\n",
    "    \n",
    "    # Combine all summaries into one big text\n",
    "    combined_summary = \" \".join(daily_summaries)\n",
    "    \n",
    "\n",
    "    max_length = 1000  \n",
    "    if len(combined_summary) > max_length:\n",
    "        combined_summary = combined_summary[:max_length] + \"...\"\n",
    "    \n",
    "    print(f\"📝 Combined Summary of All News ({len(daily_summaries)} articles):\")\n",
    "    print(combined_summary)\n",
    "    \n",
    "    print(\"\\n\" + \"=\" * 100 + \"\\n\")\n"
   ]
  }
 ],
 "metadata": {
  "kernelspec": {
   "display_name": "Python 3",
   "language": "python",
   "name": "python3"
  },
  "language_info": {
   "codemirror_mode": {
    "name": "ipython",
    "version": 3
   },
   "file_extension": ".py",
   "mimetype": "text/x-python",
   "name": "python",
   "nbconvert_exporter": "python",
   "pygments_lexer": "ipython3",
   "version": "3.12.3"
  }
 },
 "nbformat": 4,
 "nbformat_minor": 2
}
