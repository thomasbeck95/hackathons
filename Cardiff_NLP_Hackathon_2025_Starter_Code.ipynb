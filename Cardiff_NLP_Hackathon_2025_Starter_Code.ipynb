{
  "cells": [
    {
      "cell_type": "markdown",
      "metadata": {
        "id": "J5PoPAgwXukD"
      },
      "source": [
        "## Cardiff NLP Hackathon 2025 - Starter Code\n",
        "\n",
        "Welcome to Cardiff NLP's second hackathon! Below is some code to get started on the AMPLYFI API and look at some data.\n",
        "\n",
        "====================\n",
        "\n",
        "Note: the API is a real time resource so extra points to projects that can treat it as a continual data stream rather than a one-off data source!\n",
        "\n",
        "Another thing to note about this is that it will affect Amplyfi's servers if you download a silly amount of data. We ask that you only request 100 results per request, but if you have the data you need, try to download it or store it as a variable rather than requesting the exact same data over and over again."
      ]
    },
    {
      "cell_type": "code",
      "execution_count": 1,
      "metadata": {},
      "outputs": [],
      "source": [
        "! pip install -q pyngrok==6.0.0 streamlit"
      ]
    },
    {
      "cell_type": "code",
      "execution_count": 2,
      "metadata": {},
      "outputs": [
        {
          "name": "stdout",
          "output_type": "stream",
          "text": [
            "Writing app.py\n"
          ]
        }
      ],
      "source": [
        "%%writefile app.py\n",
        "import streamlit as st\n",
        "import io\n",
        "import logging\n",
        "\n",
        "logging.basicConfig(\n",
        "    filename='app.log',  # Specify the log file name\n",
        "    filemode='a',        # 'a' for append (default), 'w' for overwrite each run\n",
        "    level=logging.DEBUG, # Set a lower level for file logs, typically DEBUG\n",
        "    format='%(asctime)s - %(name)s - %(levelname)s - %(message)s'\n",
        ")\n",
        "\n",
        "# Set up streamlit page\n",
        "st.set_page_config(\n",
        "    page_title=\"Chat app skeleton.\",\n",
        "    layout=\"centered\",\n",
        ")\n",
        "\n",
        "st.title(\"Chat app skeleton.\")\n",
        "st.markdown(\"\"\"\n",
        "    <style>\n",
        "        .st-emotion-cache-4oy321 {\n",
        "            text-align: left;\n",
        "            margin: 10px;\n",
        "            margin-right: 50px;\n",
        "            background-color: salmon;\n",
        "        }\n",
        "        .st-emotion-cache-janbn0 {\n",
        "            text-align: right;\n",
        "            margin: 10px;\n",
        "            margin-left: 50px;\n",
        "            background-color: none;\n",
        "\n",
        "        }\n",
        "        .st-emotion-cache-jmw8un {\n",
        "          display: none;\n",
        "        }\n",
        "        .st-emotion-cache-4zpzjl {\n",
        "          display: none;\n",
        "        }\n",
        "    </style>\n",
        "\"\"\", unsafe_allow_html=True)"
      ]
    },
    {
      "cell_type": "code",
      "execution_count": 14,
      "metadata": {
        "colab": {
          "base_uri": "https://localhost:8080/"
        },
        "id": "lAyXKlRkXfT1",
        "outputId": "d08ec716-5ad7-4202-f970-9b5b762d1bff"
      },
      "outputs": [
        {
          "name": "stderr",
          "output_type": "stream",
          "text": [
            "[nltk_data] Downloading package vader_lexicon to /root/nltk_data...\n",
            "[nltk_data]   Package vader_lexicon is already up-to-date!\n"
          ]
        },
        {
          "data": {
            "text/plain": [
              "True"
            ]
          },
          "execution_count": 14,
          "metadata": {},
          "output_type": "execute_result"
        }
      ],
      "source": [
        "# Import some libraries\n",
        "\n",
        "import requests\n",
        "import json\n",
        "import nltk\n",
        "import re\n",
        "import pandas as pd\n",
        "\n",
        "from nltk.sentiment.vader import SentimentIntensityAnalyzer\n",
        "nltk.download('vader_lexicon')"
      ]
    },
    {
      "cell_type": "markdown",
      "metadata": {
        "id": "3nWf0GTmkF1-"
      },
      "source": [
        "Amplyfi have provided some limits and explanations of what you can query the API for below:\n",
        "\n",
        "`query_text` anything\n",
        "\n",
        "`result_size` <=100\n",
        "\n",
        "`include_highlights` boolean (if True, you get sentences matching keyphrases in the query)\n",
        "\n",
        "`include_smart_tags` boolean (if True, you get back metadata from our \"smart\" market intel classifiers - signals and industries)\n",
        "\n",
        "`ai_answer` can only accept \"basic\", this will take the 5 most relevant docs and answer the query_text based on them\n",
        "\n",
        "\n"
      ]
    },
    {
      "cell_type": "code",
      "execution_count": 20,
      "metadata": {
        "colab": {
          "base_uri": "https://localhost:8080/"
        },
        "id": "pB9UJXhho0XV",
        "outputId": "f7ec73a6-1f8a-45bd-bb70-44f349392e43"
      },
      "outputs": [
        {
          "data": {
            "text/plain": [
              "{'results': [{'id': 'DL-0fb7ba2104d01cba4e3a09be4fe28814',\n",
              "   'title': 'Who is Greta Thunberg, the activist who tried to bring aid to Palestine',\n",
              "   'url': 'https://www.sdpnoticias.com/internacional/quien-es-greta-thunberg-la-activista-intento-llevar-ayuda-a-palestina/',\n",
              "   'summary': 'Greta Thunberg is a Swedish-born activist who tried to bring aid to Palestine. She and her boat heading for the Gaza Strip to carry humanitarian aid were intercepted in international waters. We tell you the following details about the activist who failed to do so due to the intervention of the Israeli authorities.',\n",
              "   'score': 5.853409,\n",
              "   'timestamp': '2025-06-10T03:32:03'},\n",
              "  {'id': 'DL-f54a32908b9d740d8b45238fd86c0a1f',\n",
              "   'title': 'Israel intercepted a boat carrying Greta Thunberg and a Brazilian.',\n",
              "   'url': 'https://www.opovo.com.br/noticias/mundo/2025/06/10/israel-intercepta-barco-que-levava-greta-thunberg-e-brasileiro.html',\n",
              "   'summary': 'Israeli soldiers intercepted and seized control of a humanitarian aid ship en route to Gaza. The sailor Madleen was carrying 12 activists on board, including the Swedish Greta Thunberg and the Brazilian Thiago vila. Israelis did not clarify whether they had been officially detained, only that they were all \"\" safe. Israel is once again acting with total impunity, the Freedom Flotilla initiative says.',\n",
              "   'score': 3.1835938,\n",
              "   'timestamp': '2025-06-10T00:03:10'},\n",
              "  {'id': 'DL-e603fbb3efb9160196e61534de0a7b38',\n",
              "   'title': 'Top 10 world news: Israel warns Greta Thunberg to turn back; Covid cases crosses 6,000 mark in India, and more',\n",
              "   'url': 'https://www.wionews.com/world/top-10-world-news-israel-warns-greta-thunberg-to-turn-back-covid-cases-crosses-6-000-mark-in-india-and-more-1749397454664',\n",
              "   'summary': 'Israel’s defence minister Israel Katz said the move is necessary to prevent arms from being delivered to Hamas. Active COVID 19 cases in India breached the 6,000 mark on Sunday (June 8) with 378 new infections reported in the last 24 hours. According to the Union Health Ministry data the total number of active Covid-19 cases is 6,133, while the toll recorded since January now stands at 65.',\n",
              "   'score': 2.4624634,\n",
              "   'timestamp': '2025-06-08T00:00:00'},\n",
              "  {'id': 'DL-f770e003c235ff7f6517158cd3e5b337',\n",
              "   'title': 'The Committee is concerned that the State party has not ratified the Optional Protocol to the Convention on the Rights of the Child on the sale of children, child prostitution and child pornography.',\n",
              "   'url': 'https://canaln.pe/internacionales/greta-thunberg-zarpa-rumbo-gaza-romper-bloqueo-israeli-n483976',\n",
              "   'summary': 'Climate activist Greta Thunberg embarks on a new politically charged mission to the Gaza Strip. She is part of the Freedom Flotilla Coalition, an organization that promotes direct action to denounce the Israeli blockade. The images of the group waving a Palestinian flag have circulated widely on social networks.',\n",
              "   'score': 2.2458076,\n",
              "   'timestamp': '2025-06-03T21:48:31'},\n",
              "  {'id': 'DL-15a444466fba859818df40806fc6a505',\n",
              "   'title': \"Israel's threat to remind of the Blue Marmara\",\n",
              "   'url': 'https://www.sozcu.com.tr/israil-den-mavi-marmara-gemisini-hatirlatacak-tehdit-p182072',\n",
              "   'summary': 'Israel will not allow any attempts to breach the Gaza blockade. The \"Madleen\" flotilla is carrying civilian volunteers, including climate activist Greta Thunberg. Ankara is expected to hold diplomatic talks on the matter.',\n",
              "   'score': 1.8027992,\n",
              "   'timestamp': '2025-06-08T18:50:58'},\n",
              "  {'id': 'DL-8932653f88cea4a7c741dfd0e412c691',\n",
              "   'title': 'Greta Thunberg Applauds Broadway’s Inclusive Turn',\n",
              "   'url': 'https://www.nbnw.org/news/greta-thunberg-tony-awards',\n",
              "   'summary': \"Climate activist Greta Thunberg praises Cole Escola's win at the 2025 Tony Awards. She praises the interconnectedness of environmental and social issues and the significance of amplifying bold voices in movements for justice. Escola made history this year by winning Best Actor in a Play for Oh, Mary!\",\n",
              "   'score': 1.4543209,\n",
              "   'timestamp': '2025-06-09T17:22:08+00:00'},\n",
              "  {'id': 'DL-34775aaf9d07414608e46433b8d92f1c',\n",
              "   'title': 'Editorial: Israel’s brazen foul play to fore',\n",
              "   'url': 'https://www.dtnext.in/edit/editorial-israels-brazen-foul-play-to-fore-836540',\n",
              "   'summary': 'Israel took control of the ship and detained human rights defenders on board. Israel’s foreign ministry announced on social media platform X (formerly Twitter) that the ship will be steered to Israel from where the “passengers are expected to return to their home countries” and the aid material, including baby food, medicines and essentials,it confiscated would be transferred to Gaza through humanitarian channels. There have been repeated instances of shootings of desperate and starving Palestinians who come to the aid distribution centres run by Gaza Human',\n",
              "   'score': 1.4464855,\n",
              "   'timestamp': '2025-06-10T08:50:43'},\n",
              "  {'id': 'DL-dc56245fa114239fdf05ec7b3d141bf3',\n",
              "   'title': 'Sailing for justice',\n",
              "   'url': 'https://www.tehrantimes.com/news/513987/Sailing-for-justice',\n",
              "   'summary': 'The Madleen Gaza flotilla, which sailed from Sicily on June 1, 2025, is the latest and most determined international campaign to challenge the Israeli naval blockade of Gaza. It is loaded with urgently needed supplies, including baby formula, flour, rice, glucose, diapers, women’s sanitary products, water desalination filters, medical tools, crutches, and prosthetics for children. Twelve activists, including Swedish climate activist Greta Thunberg and Irish actor Liam Cu',\n",
              "   'score': 1.3801346,\n",
              "   'timestamp': '2025-06-07T19:23:00+00:00'},\n",
              "  {'id': 'DL-072e8821cfba7e7992b507b021e9b7f9',\n",
              "   'title': 'European lawmakers urge safe passage for Gaza-bound aid flotilla',\n",
              "   'url': 'https://www.aa.com.tr/en/europe/european-lawmakers-urge-safe-passage-for-gaza-bound-aid-flotilla/3591296',\n",
              "   'summary': 'European lawmakers are calling for safe passage for the Freedom Flotilla Coalition. It set sail to deliver humanitarian aid to Palestinians in Gaza and break Israel’s blockade.',\n",
              "   'score': 1.3779602,\n",
              "   'timestamp': '2025-06-07T16:39:00+00:00'},\n",
              "  {'id': 'DL-d3d047c9a4fc029b2e1a5f15ebf7ed06',\n",
              "   'title': 'Fleet for Freedom: Why a humanitarian vessel sailed to Gaza with Greta Thunberg and Rima Hassan on board',\n",
              "   'url': 'https://www.franceinfo.fr/monde/palestine/gaza/guerre-a-gaza-pourquoi-un-bateau-humanitaire-a-mis-les-voiles-vers-l-enclave-palestinienne-avec-greta-thunberg-et-rima-hassan-a-son-bord_7291194.html',\n",
              "   'summary': 'The \"Madleen\" is seeking to rally the besieged territory, despite the blockade imposed by Israel. The ship, the Madleen, was off the Greek coast on Wednesday at 4 p.m. It carries medical aid, food and supplies for children. \"Our mission is to support the Palestinian resistance,\" activist Greta Thunberg says.',\n",
              "   'score': 1.1081696,\n",
              "   'timestamp': '2025-06-04T16:07:07+00:00'},\n",
              "  {'id': 'DL-bb3181dd3756efa9db0b36bf1fb0420b',\n",
              "   'title': 'Twelve activists, including Greta Thunberg, approach Gaza in a sailboat: \"A single drone strike is enough to sink the ship\"',\n",
              "   'url': 'https://www.rtl.be/actu/monde/international/douze-militants-dont-greta-thunberg-approchent-de-gaza-bord-dun-voilier-une/2025-06-07/article/752505',\n",
              "   'summary': 'Madleen, loaded with rice and medicines, is en route to Gaza. A symbolic and ludicrous expedition in view of the dramatic situation in the Palestinian enclave. The inhabitants have been deprived of care for three days and food for three months.',\n",
              "   'score': 1.0308456,\n",
              "   'timestamp': '2025-06-07T18:27:36+00:00'},\n",
              "  {'id': 'DL-63c07685c0bf6e29852312cbee693e66',\n",
              "   'title': 'Israel boards and stops Freedom Fleet with Greta Thunberg',\n",
              "   'url': 'https://www.quotidiano.net/video/israele-abborda-e-ferma-la-freedom-flottiglia-con-greta-thunberg-ko3jxx9l',\n",
              "   'summary': 'The Freedom Flotilla Coalition chartered the humanitarian ship Madleen for Gaza. Greta Thunberg and Rima Hassan have said it has been \"boarded\" by the Israeli military. The boat was continuing its journey despite Israeli orders to its army to prevent it from reaching Palestinian territory.',\n",
              "   'score': 0.9165058,\n",
              "   'timestamp': '2025-06-09T08:09:37'},\n",
              "  {'id': 'DL-e4d93f7aad0531b2848c80001b940760',\n",
              "   'title': 'In addition, the Committee recommends that the State party take all necessary measures to ensure the full implementation of the present recommendations, inter alia, by transmitting them to the members of the Council of Ministers, the Parliament, the Parliamentary Assembly, the judiciary and the public at large, as well as to the members of civil society, including non-governmental organizations and the private sector, for appropriate consideration and further action.',\n",
              "   'url': 'https://www.sinembargo.mx/4661121/thunberg-zarpa-en-la-flotilla-de-la-libertad-a-gaza-para-romper-bloqueo-a-palestina/',\n",
              "   'summary': 'Climate activist Greta Thunberg sails from Catania, Italy, to Gaza on 1 June. The Madleen is part of the Freedom Flotilla Coalition. It is aimed at breaking the Israeli naval blockade and opening up a civilian maritime corridor.',\n",
              "   'score': 0.8766327,\n",
              "   'timestamp': '2025-06-07T13:00:55'},\n",
              "  {'id': 'DL-1c74cd5ab19665f2b00f834edf3d4b88',\n",
              "   'title': 'Veronika Honkasalo calls on Israel to release Greta Thunberg',\n",
              "   'url': 'https://www.verkkouutiset.fi/a/veronika-honkasalo-vaatii-israelia-vapauttamaan-greta-thunbergin/',\n",
              "   'summary': \"Israel called the Madleen a 'selfie jet' and said that the passengers were safe and unharmed. Representatives of the country's armed forces (IDF) were instructed to show the group a video of the activities of the terrorist organisation Hamas before organising their deportation.\",\n",
              "   'score': 0.7012558,\n",
              "   'timestamp': '2025-06-09T09:37:00+00:00'},\n",
              "  {'id': 'DL-82ac6b3dcc095135196e98c73b2331ae',\n",
              "   'title': '\"5,000 people on Mars within 60 years\": the Territories would be at the dawn of a new civilization',\n",
              "   'url': 'https://france3-regions.franceinfo.fr/occitanie/haute-garonne/toulouse/5000-personnes-sur-la-planete-mars-d-ici-60-ans-les-terriens-seraient-a-l-aube-d-une-nouvelle-civilisation-3163341.html',\n",
              "   'summary': 'In an essay, Pierre-José Billotte explores the transformation of humanity into a multi-planetary civilization. It questions our ability to build a sustainable society on Mars and in space, while at the same time rethinking our relationship to Earth. In 1969, the unification of the Americans sort of ended the cycle begun by the author of \"The Extraordinary Voyages\" The result of public policies, of a space race between two super-states, the United States and the Soviet Union.',\n",
              "   'score': 0.39920807,\n",
              "   'timestamp': '2025-06-08T05:03:23+00:00'},\n",
              "  {'id': 'DL-7704fe833f4de3fbe902d6adfdd2a151',\n",
              "   'title': 'Iran to present counter-proposal to US in nuclear talks',\n",
              "   'url': 'https://www.reuters.com/world/middle-east/iran-present-counter-proposal-us-nuclear-talks-foreign-ministry-says-2025-06-09/',\n",
              "   'summary': \"Iran says its nuclear programme is only for peaceful purposes. Iran says the West has turned a blind eye to Israel's nuclear programme even while pushing against Iran's. Israel neither confirms nor denies that it has nuclear weapons.\",\n",
              "   'score': 0.34892654,\n",
              "   'timestamp': '2025-06-09T09:25:11+00:00'},\n",
              "  {'id': 'DL-7cfa02cad0d24bc2f5a6f46f68a3a6fb',\n",
              "   'title': 'Portuguese join peaceful march to Gaza: \"We want an open border for humanitarian aid.\"',\n",
              "   'url': 'https://rr.pt/noticia/mundo/2025/06/06/portugueses-juntam-se-a-marcha-pacifica-ate-gaza-queremos-uma-fronteira-aberta-a-ajuda-humanitaria/428179/?utm_medium=rss',\n",
              "   'summary': 'Two thousand citizens from more than 40 countries will take part in a global march to the Rafah border in the southern part of the enclave. Without party affiliations or religious affiliations, participants are united by one goal: to raise awareness of the importance of breaking the Israeli blockade and allowing humanitarian aid into Gaza. The goal of the march is, above all, to draw the attention of the international community.',\n",
              "   'score': 0.29680252,\n",
              "   'timestamp': '2025-06-06T06:00:00'}],\n",
              " 'query_details': {'query_text': 'what is greta thunberg doing',\n",
              "  'rerank_method': None,\n",
              "  'diversity_ratio': 0,\n",
              "  'result_size': 90,\n",
              "  'timerange': '7d',\n",
              "  'include_highlights': None,\n",
              "  'include_smart_tags': None,\n",
              "  'ai_answer': None,\n",
              "  'cluster_results': None},\n",
              " 'count': 17}"
            ]
          },
          "execution_count": 20,
          "metadata": {},
          "output_type": "execute_result"
        }
      ],
      "source": [
        "# API endpoint from the newly deployed service\n",
        "\n",
        "API_URL = \"https://zfgp45ih7i.execute-api.eu-west-1.amazonaws.com/sandbox/api/search\"\n",
        "API_KEY = \"XYZ38746G38B7RB46GBER\"\n",
        "\n",
        "headers = {\n",
        "    \"Content-Type\": \"application/json\",\n",
        "    \"x-api-key\": API_KEY\n",
        "}\n",
        "\n",
        "# Edit the below to get different data\n",
        "payload = {\n",
        "  \"query_text\": \"what is greta thunberg doing\",\n",
        "  \"result_size\": 90,\n",
        "}\n",
        "\n",
        "response = requests.post(API_URL, headers=headers, data=json.dumps(payload))\n",
        "json_response = response.json()\n",
        "\n",
        "json_response\n"
      ]
    },
    {
      "cell_type": "code",
      "execution_count": 23,
      "metadata": {
        "colab": {
          "base_uri": "https://localhost:8080/"
        },
        "id": "4LYdLzB2OhFA",
        "outputId": "3a027f4a-4e38-43c6-857e-f5c2ff001e24"
      },
      "outputs": [
        {
          "data": {
            "text/plain": [
              "{'id': 'DL-f770e003c235ff7f6517158cd3e5b337',\n",
              " 'title': 'The Committee is concerned that the State party has not ratified the Optional Protocol to the Convention on the Rights of the Child on the sale of children, child prostitution and child pornography.',\n",
              " 'url': 'https://canaln.pe/internacionales/greta-thunberg-zarpa-rumbo-gaza-romper-bloqueo-israeli-n483976',\n",
              " 'summary': 'Climate activist Greta Thunberg embarks on a new politically charged mission to the Gaza Strip. She is part of the Freedom Flotilla Coalition, an organization that promotes direct action to denounce the Israeli blockade. The images of the group waving a Palestinian flag have circulated widely on social networks.',\n",
              " 'score': 2.2458076,\n",
              " 'timestamp': '2025-06-03T21:48:31'}"
            ]
          },
          "execution_count": 23,
          "metadata": {},
          "output_type": "execute_result"
        }
      ],
      "source": [
        "json_response['results'][3]"
      ]
    },
    {
      "cell_type": "code",
      "execution_count": 29,
      "metadata": {
        "colab": {
          "base_uri": "https://localhost:8080/",
          "height": 695
        },
        "id": "IWGX-TZ8YBTG",
        "outputId": "3300ff40-c365-45d9-beba-583896687b26"
      },
      "outputs": [
        {
          "data": {
            "application/vnd.google.colaboratory.intrinsic+json": {
              "summary": "{\n  \"name\": \"df\",\n  \"rows\": 17,\n  \"fields\": [\n    {\n      \"column\": \"id\",\n      \"properties\": {\n        \"dtype\": \"string\",\n        \"num_unique_values\": 17,\n        \"samples\": [\n          \"DL-0fb7ba2104d01cba4e3a09be4fe28814\",\n          \"DL-f54a32908b9d740d8b45238fd86c0a1f\",\n          \"DL-8932653f88cea4a7c741dfd0e412c691\"\n        ],\n        \"semantic_type\": \"\",\n        \"description\": \"\"\n      }\n    },\n    {\n      \"column\": \"title\",\n      \"properties\": {\n        \"dtype\": \"string\",\n        \"num_unique_values\": 17,\n        \"samples\": [\n          \"Who is Greta Thunberg, the activist who tried to bring aid to Palestine\",\n          \"Israel intercepted a boat carrying Greta Thunberg and a Brazilian.\",\n          \"Greta Thunberg Applauds Broadway\\u2019s Inclusive Turn\"\n        ],\n        \"semantic_type\": \"\",\n        \"description\": \"\"\n      }\n    },\n    {\n      \"column\": \"url\",\n      \"properties\": {\n        \"dtype\": \"string\",\n        \"num_unique_values\": 17,\n        \"samples\": [\n          \"https://www.sdpnoticias.com/internacional/quien-es-greta-thunberg-la-activista-intento-llevar-ayuda-a-palestina/\",\n          \"https://www.opovo.com.br/noticias/mundo/2025/06/10/israel-intercepta-barco-que-levava-greta-thunberg-e-brasileiro.html\",\n          \"https://www.nbnw.org/news/greta-thunberg-tony-awards\"\n        ],\n        \"semantic_type\": \"\",\n        \"description\": \"\"\n      }\n    },\n    {\n      \"column\": \"summary\",\n      \"properties\": {\n        \"dtype\": \"string\",\n        \"num_unique_values\": 17,\n        \"samples\": [\n          \"Greta Thunberg is a Swedish-born activist who tried to bring aid to Palestine. She and her boat heading for the Gaza Strip to carry humanitarian aid were intercepted in international waters. We tell you the following details about the activist who failed to do so due to the intervention of the Israeli authorities.\",\n          \"Israeli soldiers intercepted and seized control of a humanitarian aid ship en route to Gaza. The sailor Madleen was carrying 12 activists on board, including the Swedish Greta Thunberg and the Brazilian Thiago vila. Israelis did not clarify whether they had been officially detained, only that they were all \\\"\\\" safe. Israel is once again acting with total impunity, the Freedom Flotilla initiative says.\",\n          \"Climate activist Greta Thunberg praises Cole Escola's win at the 2025 Tony Awards. She praises the interconnectedness of environmental and social issues and the significance of amplifying bold voices in movements for justice. Escola made history this year by winning Best Actor in a Play for Oh, Mary!\"\n        ],\n        \"semantic_type\": \"\",\n        \"description\": \"\"\n      }\n    },\n    {\n      \"column\": \"score\",\n      \"properties\": {\n        \"dtype\": \"number\",\n        \"std\": 1.3464609058633872,\n        \"min\": 0.29680252,\n        \"max\": 5.853409,\n        \"num_unique_values\": 17,\n        \"samples\": [\n          5.853409,\n          3.1835938,\n          1.4543209\n        ],\n        \"semantic_type\": \"\",\n        \"description\": \"\"\n      }\n    },\n    {\n      \"column\": \"timestamp\",\n      \"properties\": {\n        \"dtype\": \"string\",\n        \"num_unique_values\": 17,\n        \"samples\": [\n          \"2025-06-10T03:32:03\",\n          \"2025-06-10T00:03:10\",\n          \"2025-06-09T17:22:08+00:00\"\n        ],\n        \"semantic_type\": \"\",\n        \"description\": \"\"\n      }\n    }\n  ]\n}",
              "type": "dataframe",
              "variable_name": "df"
            },
            "text/html": [
              "\n",
              "  <div id=\"df-f5abcb29-9c98-48d8-a8f6-03be61eee199\" class=\"colab-df-container\">\n",
              "    <div>\n",
              "<style scoped>\n",
              "    .dataframe tbody tr th:only-of-type {\n",
              "        vertical-align: middle;\n",
              "    }\n",
              "\n",
              "    .dataframe tbody tr th {\n",
              "        vertical-align: top;\n",
              "    }\n",
              "\n",
              "    .dataframe thead th {\n",
              "        text-align: right;\n",
              "    }\n",
              "</style>\n",
              "<table border=\"1\" class=\"dataframe\">\n",
              "  <thead>\n",
              "    <tr style=\"text-align: right;\">\n",
              "      <th></th>\n",
              "      <th>id</th>\n",
              "      <th>title</th>\n",
              "      <th>url</th>\n",
              "      <th>summary</th>\n",
              "      <th>score</th>\n",
              "      <th>timestamp</th>\n",
              "    </tr>\n",
              "  </thead>\n",
              "  <tbody>\n",
              "    <tr>\n",
              "      <th>0</th>\n",
              "      <td>DL-0fb7ba2104d01cba4e3a09be4fe28814</td>\n",
              "      <td>Who is Greta Thunberg, the activist who tried ...</td>\n",
              "      <td>https://www.sdpnoticias.com/internacional/quie...</td>\n",
              "      <td>Greta Thunberg is a Swedish-born activist who ...</td>\n",
              "      <td>5.853409</td>\n",
              "      <td>2025-06-10T03:32:03</td>\n",
              "    </tr>\n",
              "    <tr>\n",
              "      <th>1</th>\n",
              "      <td>DL-f54a32908b9d740d8b45238fd86c0a1f</td>\n",
              "      <td>Israel intercepted a boat carrying Greta Thunb...</td>\n",
              "      <td>https://www.opovo.com.br/noticias/mundo/2025/0...</td>\n",
              "      <td>Israeli soldiers intercepted and seized contro...</td>\n",
              "      <td>3.183594</td>\n",
              "      <td>2025-06-10T00:03:10</td>\n",
              "    </tr>\n",
              "    <tr>\n",
              "      <th>2</th>\n",
              "      <td>DL-e603fbb3efb9160196e61534de0a7b38</td>\n",
              "      <td>Top 10 world news: Israel warns Greta Thunberg...</td>\n",
              "      <td>https://www.wionews.com/world/top-10-world-new...</td>\n",
              "      <td>Israel’s defence minister Israel Katz said the...</td>\n",
              "      <td>2.462463</td>\n",
              "      <td>2025-06-08T00:00:00</td>\n",
              "    </tr>\n",
              "    <tr>\n",
              "      <th>3</th>\n",
              "      <td>DL-f770e003c235ff7f6517158cd3e5b337</td>\n",
              "      <td>The Committee is concerned that the State part...</td>\n",
              "      <td>https://canaln.pe/internacionales/greta-thunbe...</td>\n",
              "      <td>Climate activist Greta Thunberg embarks on a n...</td>\n",
              "      <td>2.245808</td>\n",
              "      <td>2025-06-03T21:48:31</td>\n",
              "    </tr>\n",
              "    <tr>\n",
              "      <th>4</th>\n",
              "      <td>DL-15a444466fba859818df40806fc6a505</td>\n",
              "      <td>Israel's threat to remind of the Blue Marmara</td>\n",
              "      <td>https://www.sozcu.com.tr/israil-den-mavi-marma...</td>\n",
              "      <td>Israel will not allow any attempts to breach t...</td>\n",
              "      <td>1.802799</td>\n",
              "      <td>2025-06-08T18:50:58</td>\n",
              "    </tr>\n",
              "  </tbody>\n",
              "</table>\n",
              "</div>\n",
              "    <div class=\"colab-df-buttons\">\n",
              "\n",
              "  <div class=\"colab-df-container\">\n",
              "    <button class=\"colab-df-convert\" onclick=\"convertToInteractive('df-f5abcb29-9c98-48d8-a8f6-03be61eee199')\"\n",
              "            title=\"Convert this dataframe to an interactive table.\"\n",
              "            style=\"display:none;\">\n",
              "\n",
              "  <svg xmlns=\"http://www.w3.org/2000/svg\" height=\"24px\" viewBox=\"0 -960 960 960\">\n",
              "    <path d=\"M120-120v-720h720v720H120Zm60-500h600v-160H180v160Zm220 220h160v-160H400v160Zm0 220h160v-160H400v160ZM180-400h160v-160H180v160Zm440 0h160v-160H620v160ZM180-180h160v-160H180v160Zm440 0h160v-160H620v160Z\"/>\n",
              "  </svg>\n",
              "    </button>\n",
              "\n",
              "  <style>\n",
              "    .colab-df-container {\n",
              "      display:flex;\n",
              "      gap: 12px;\n",
              "    }\n",
              "\n",
              "    .colab-df-convert {\n",
              "      background-color: #E8F0FE;\n",
              "      border: none;\n",
              "      border-radius: 50%;\n",
              "      cursor: pointer;\n",
              "      display: none;\n",
              "      fill: #1967D2;\n",
              "      height: 32px;\n",
              "      padding: 0 0 0 0;\n",
              "      width: 32px;\n",
              "    }\n",
              "\n",
              "    .colab-df-convert:hover {\n",
              "      background-color: #E2EBFA;\n",
              "      box-shadow: 0px 1px 2px rgba(60, 64, 67, 0.3), 0px 1px 3px 1px rgba(60, 64, 67, 0.15);\n",
              "      fill: #174EA6;\n",
              "    }\n",
              "\n",
              "    .colab-df-buttons div {\n",
              "      margin-bottom: 4px;\n",
              "    }\n",
              "\n",
              "    [theme=dark] .colab-df-convert {\n",
              "      background-color: #3B4455;\n",
              "      fill: #D2E3FC;\n",
              "    }\n",
              "\n",
              "    [theme=dark] .colab-df-convert:hover {\n",
              "      background-color: #434B5C;\n",
              "      box-shadow: 0px 1px 3px 1px rgba(0, 0, 0, 0.15);\n",
              "      filter: drop-shadow(0px 1px 2px rgba(0, 0, 0, 0.3));\n",
              "      fill: #FFFFFF;\n",
              "    }\n",
              "  </style>\n",
              "\n",
              "    <script>\n",
              "      const buttonEl =\n",
              "        document.querySelector('#df-f5abcb29-9c98-48d8-a8f6-03be61eee199 button.colab-df-convert');\n",
              "      buttonEl.style.display =\n",
              "        google.colab.kernel.accessAllowed ? 'block' : 'none';\n",
              "\n",
              "      async function convertToInteractive(key) {\n",
              "        const element = document.querySelector('#df-f5abcb29-9c98-48d8-a8f6-03be61eee199');\n",
              "        const dataTable =\n",
              "          await google.colab.kernel.invokeFunction('convertToInteractive',\n",
              "                                                    [key], {});\n",
              "        if (!dataTable) return;\n",
              "\n",
              "        const docLinkHtml = 'Like what you see? Visit the ' +\n",
              "          '<a target=\"_blank\" href=https://colab.research.google.com/notebooks/data_table.ipynb>data table notebook</a>'\n",
              "          + ' to learn more about interactive tables.';\n",
              "        element.innerHTML = '';\n",
              "        dataTable['output_type'] = 'display_data';\n",
              "        await google.colab.output.renderOutput(dataTable, element);\n",
              "        const docLink = document.createElement('div');\n",
              "        docLink.innerHTML = docLinkHtml;\n",
              "        element.appendChild(docLink);\n",
              "      }\n",
              "    </script>\n",
              "  </div>\n",
              "\n",
              "\n",
              "    <div id=\"df-251b9be9-dcda-4ebb-a6c4-51f639174808\">\n",
              "      <button class=\"colab-df-quickchart\" onclick=\"quickchart('df-251b9be9-dcda-4ebb-a6c4-51f639174808')\"\n",
              "                title=\"Suggest charts\"\n",
              "                style=\"display:none;\">\n",
              "\n",
              "<svg xmlns=\"http://www.w3.org/2000/svg\" height=\"24px\"viewBox=\"0 0 24 24\"\n",
              "     width=\"24px\">\n",
              "    <g>\n",
              "        <path d=\"M19 3H5c-1.1 0-2 .9-2 2v14c0 1.1.9 2 2 2h14c1.1 0 2-.9 2-2V5c0-1.1-.9-2-2-2zM9 17H7v-7h2v7zm4 0h-2V7h2v10zm4 0h-2v-4h2v4z\"/>\n",
              "    </g>\n",
              "</svg>\n",
              "      </button>\n",
              "\n",
              "<style>\n",
              "  .colab-df-quickchart {\n",
              "      --bg-color: #E8F0FE;\n",
              "      --fill-color: #1967D2;\n",
              "      --hover-bg-color: #E2EBFA;\n",
              "      --hover-fill-color: #174EA6;\n",
              "      --disabled-fill-color: #AAA;\n",
              "      --disabled-bg-color: #DDD;\n",
              "  }\n",
              "\n",
              "  [theme=dark] .colab-df-quickchart {\n",
              "      --bg-color: #3B4455;\n",
              "      --fill-color: #D2E3FC;\n",
              "      --hover-bg-color: #434B5C;\n",
              "      --hover-fill-color: #FFFFFF;\n",
              "      --disabled-bg-color: #3B4455;\n",
              "      --disabled-fill-color: #666;\n",
              "  }\n",
              "\n",
              "  .colab-df-quickchart {\n",
              "    background-color: var(--bg-color);\n",
              "    border: none;\n",
              "    border-radius: 50%;\n",
              "    cursor: pointer;\n",
              "    display: none;\n",
              "    fill: var(--fill-color);\n",
              "    height: 32px;\n",
              "    padding: 0;\n",
              "    width: 32px;\n",
              "  }\n",
              "\n",
              "  .colab-df-quickchart:hover {\n",
              "    background-color: var(--hover-bg-color);\n",
              "    box-shadow: 0 1px 2px rgba(60, 64, 67, 0.3), 0 1px 3px 1px rgba(60, 64, 67, 0.15);\n",
              "    fill: var(--button-hover-fill-color);\n",
              "  }\n",
              "\n",
              "  .colab-df-quickchart-complete:disabled,\n",
              "  .colab-df-quickchart-complete:disabled:hover {\n",
              "    background-color: var(--disabled-bg-color);\n",
              "    fill: var(--disabled-fill-color);\n",
              "    box-shadow: none;\n",
              "  }\n",
              "\n",
              "  .colab-df-spinner {\n",
              "    border: 2px solid var(--fill-color);\n",
              "    border-color: transparent;\n",
              "    border-bottom-color: var(--fill-color);\n",
              "    animation:\n",
              "      spin 1s steps(1) infinite;\n",
              "  }\n",
              "\n",
              "  @keyframes spin {\n",
              "    0% {\n",
              "      border-color: transparent;\n",
              "      border-bottom-color: var(--fill-color);\n",
              "      border-left-color: var(--fill-color);\n",
              "    }\n",
              "    20% {\n",
              "      border-color: transparent;\n",
              "      border-left-color: var(--fill-color);\n",
              "      border-top-color: var(--fill-color);\n",
              "    }\n",
              "    30% {\n",
              "      border-color: transparent;\n",
              "      border-left-color: var(--fill-color);\n",
              "      border-top-color: var(--fill-color);\n",
              "      border-right-color: var(--fill-color);\n",
              "    }\n",
              "    40% {\n",
              "      border-color: transparent;\n",
              "      border-right-color: var(--fill-color);\n",
              "      border-top-color: var(--fill-color);\n",
              "    }\n",
              "    60% {\n",
              "      border-color: transparent;\n",
              "      border-right-color: var(--fill-color);\n",
              "    }\n",
              "    80% {\n",
              "      border-color: transparent;\n",
              "      border-right-color: var(--fill-color);\n",
              "      border-bottom-color: var(--fill-color);\n",
              "    }\n",
              "    90% {\n",
              "      border-color: transparent;\n",
              "      border-bottom-color: var(--fill-color);\n",
              "    }\n",
              "  }\n",
              "</style>\n",
              "\n",
              "      <script>\n",
              "        async function quickchart(key) {\n",
              "          const quickchartButtonEl =\n",
              "            document.querySelector('#' + key + ' button');\n",
              "          quickchartButtonEl.disabled = true;  // To prevent multiple clicks.\n",
              "          quickchartButtonEl.classList.add('colab-df-spinner');\n",
              "          try {\n",
              "            const charts = await google.colab.kernel.invokeFunction(\n",
              "                'suggestCharts', [key], {});\n",
              "          } catch (error) {\n",
              "            console.error('Error during call to suggestCharts:', error);\n",
              "          }\n",
              "          quickchartButtonEl.classList.remove('colab-df-spinner');\n",
              "          quickchartButtonEl.classList.add('colab-df-quickchart-complete');\n",
              "        }\n",
              "        (() => {\n",
              "          let quickchartButtonEl =\n",
              "            document.querySelector('#df-251b9be9-dcda-4ebb-a6c4-51f639174808 button');\n",
              "          quickchartButtonEl.style.display =\n",
              "            google.colab.kernel.accessAllowed ? 'block' : 'none';\n",
              "        })();\n",
              "      </script>\n",
              "    </div>\n",
              "\n",
              "    </div>\n",
              "  </div>\n"
            ],
            "text/plain": [
              "                                    id  \\\n",
              "0  DL-0fb7ba2104d01cba4e3a09be4fe28814   \n",
              "1  DL-f54a32908b9d740d8b45238fd86c0a1f   \n",
              "2  DL-e603fbb3efb9160196e61534de0a7b38   \n",
              "3  DL-f770e003c235ff7f6517158cd3e5b337   \n",
              "4  DL-15a444466fba859818df40806fc6a505   \n",
              "\n",
              "                                               title  \\\n",
              "0  Who is Greta Thunberg, the activist who tried ...   \n",
              "1  Israel intercepted a boat carrying Greta Thunb...   \n",
              "2  Top 10 world news: Israel warns Greta Thunberg...   \n",
              "3  The Committee is concerned that the State part...   \n",
              "4      Israel's threat to remind of the Blue Marmara   \n",
              "\n",
              "                                                 url  \\\n",
              "0  https://www.sdpnoticias.com/internacional/quie...   \n",
              "1  https://www.opovo.com.br/noticias/mundo/2025/0...   \n",
              "2  https://www.wionews.com/world/top-10-world-new...   \n",
              "3  https://canaln.pe/internacionales/greta-thunbe...   \n",
              "4  https://www.sozcu.com.tr/israil-den-mavi-marma...   \n",
              "\n",
              "                                             summary     score  \\\n",
              "0  Greta Thunberg is a Swedish-born activist who ...  5.853409   \n",
              "1  Israeli soldiers intercepted and seized contro...  3.183594   \n",
              "2  Israel’s defence minister Israel Katz said the...  2.462463   \n",
              "3  Climate activist Greta Thunberg embarks on a n...  2.245808   \n",
              "4  Israel will not allow any attempts to breach t...  1.802799   \n",
              "\n",
              "             timestamp  \n",
              "0  2025-06-10T03:32:03  \n",
              "1  2025-06-10T00:03:10  \n",
              "2  2025-06-08T00:00:00  \n",
              "3  2025-06-03T21:48:31  \n",
              "4  2025-06-08T18:50:58  "
            ]
          },
          "execution_count": 29,
          "metadata": {},
          "output_type": "execute_result"
        }
      ],
      "source": [
        "df = pd.json_normalize(json_response['results'])\n",
        "\n",
        "df.head()"
      ]
    },
    {
      "cell_type": "code",
      "execution_count": 62,
      "metadata": {
        "colab": {
          "base_uri": "https://localhost:8080/"
        },
        "id": "_JMVUlhPk7E7",
        "outputId": "92dfb8aa-b993-4b8d-d1af-387de889fb4e"
      },
      "outputs": [
        {
          "name": "stdout",
          "output_type": "stream",
          "text": [
            "0   2025-06-04 16:07:07+00:00\n",
            "1   2025-06-07 16:39:00+00:00\n",
            "2   2025-06-07 18:27:36+00:00\n",
            "3   2025-06-07 19:23:00+00:00\n",
            "4   2025-06-08 05:03:23+00:00\n",
            "5   2025-06-09 09:25:11+00:00\n",
            "6   2025-06-09 09:37:00+00:00\n",
            "7   2025-06-09 17:22:08+00:00\n",
            "Name: timestamp, dtype: datetime64[ns, UTC]\n"
          ]
        }
      ],
      "source": [
        "print(df['timestamp'])"
      ]
    },
    {
      "cell_type": "markdown",
      "metadata": {
        "id": "JBLHUuN-qsgw"
      },
      "source": [
        "## Example Sentiment Analysis"
      ]
    },
    {
      "cell_type": "code",
      "execution_count": 63,
      "metadata": {
        "id": "sN-TP0mPqEmu"
      },
      "outputs": [],
      "source": [
        "## Clean data\n",
        "\n",
        "def clean_text(text):\n",
        "    \"\"\"\n",
        "    - Convert to lowercase\n",
        "    - Remove URLs\n",
        "    - Remove punctuation / non-alpha\n",
        "    - Collapse multiple spaces\n",
        "    \"\"\"\n",
        "    if not isinstance(text, str):\n",
        "        return \"\"\n",
        "    # Remove URLs (very basic)\n",
        "    text = re.sub(r\"http\\S+|www\\.\\S+\", \"\", text)\n",
        "    # Lowercase\n",
        "    text = text.lower()\n",
        "    # Keep only letters and spaces\n",
        "    text = re.sub(r\"[^a-z\\s]\", \" \", text)\n",
        "    # Collapse multiple spaces\n",
        "    text = re.sub(r\"\\s+\", \" \", text).strip()\n",
        "    return text\n",
        "\n",
        "df['clean_summary'] = df['summary'].apply(clean_text)\n"
      ]
    },
    {
      "cell_type": "code",
      "execution_count": 64,
      "metadata": {
        "colab": {
          "base_uri": "https://localhost:8080/"
        },
        "id": "Le9c5zKPpSQh",
        "outputId": "fdf22455-3610-4156-82f2-45591e3abbdd"
      },
      "outputs": [
        {
          "name": "stdout",
          "output_type": "stream",
          "text": [
            "                                       clean_summary  sent_compound  \\\n",
            "7  climate activist greta thunberg praises cole e...         0.9844   \n",
            "4  in an essay pierre jos billotte explores the t...         0.8402   \n",
            "1  european lawmakers are calling for safe passag...         0.7964   \n",
            "3  the madleen gaza flotilla which sailed from si...         0.4576   \n",
            "0  the madleen is seeking to rally the besieged t...         0.4445   \n",
            "\n",
            "                  timestamp  \n",
            "7 2025-06-09 17:22:08+00:00  \n",
            "4 2025-06-08 05:03:23+00:00  \n",
            "1 2025-06-07 16:39:00+00:00  \n",
            "3 2025-06-07 19:23:00+00:00  \n",
            "0 2025-06-04 16:07:07+00:00  \n",
            "                                       clean_summary  sent_compound  \\\n",
            "5  iran says its nuclear programme is only for pe...        -0.5245   \n",
            "6  israel called the madleen a selfie jet and sai...        -0.4215   \n",
            "2  madleen loaded with rice and medicines is en r...        -0.3400   \n",
            "0  the madleen is seeking to rally the besieged t...         0.4445   \n",
            "3  the madleen gaza flotilla which sailed from si...         0.4576   \n",
            "\n",
            "                  timestamp  \n",
            "5 2025-06-09 09:25:11+00:00  \n",
            "6 2025-06-09 09:37:00+00:00  \n",
            "2 2025-06-07 18:27:36+00:00  \n",
            "0 2025-06-04 16:07:07+00:00  \n",
            "3 2025-06-07 19:23:00+00:00  \n"
          ]
        }
      ],
      "source": [
        "## Sentiment analysis example\n",
        "\n",
        "sia = SentimentIntensityAnalyzer()\n",
        "\n",
        "def get_sentiment_scores(text):\n",
        "    \"\"\"\n",
        "    Returns a dict with these keys:\n",
        "       - neg: negative sentiment score\n",
        "       - neu: neutral score\n",
        "       - pos: positive score\n",
        "       - compound: normalized, weighted composite (-1 to +1)\n",
        "    \"\"\"\n",
        "    return sia.polarity_scores(text)\n",
        "\n",
        "# Apply to each summary\n",
        "df['sentiment'] = df['clean_summary'].apply(get_sentiment_scores)\n",
        "\n",
        "# Split into separate columns if you like\n",
        "df['sent_neg'] = df['sentiment'].apply(lambda d: d['neg'])\n",
        "df['sent_neu'] = df['sentiment'].apply(lambda d: d['neu'])\n",
        "df['sent_pos'] = df['sentiment'].apply(lambda d: d['pos'])\n",
        "df['sent_compound'] = df['sentiment'].apply(lambda d: d['compound'])\n",
        "\n",
        "# Quick look at top 5 compound scores\n",
        "print(df[['clean_summary', 'sent_compound', 'timestamp']].sort_values(by='sent_compound', ascending=False).head())\n",
        "print(df[['clean_summary', 'sent_compound', 'timestamp']].sort_values(by='sent_compound').head())\n"
      ]
    },
    {
      "cell_type": "code",
      "execution_count": 32,
      "metadata": {
        "colab": {
          "base_uri": "https://localhost:8080/"
        },
        "id": "_9SPSX-rqYFd",
        "outputId": "a56961a0-22fd-42d1-8845-df085b7e319f"
      },
      "outputs": [
        {
          "name": "stdout",
          "output_type": "stream",
          "text": [
            "Most positive summary (compound = 0.984):\n",
            "\n",
            "climate activist greta thunberg praises cole escola s win at the tony awards she praises the interconnectedness of environmental and social issues and the significance of amplifying bold voices in movements for justice escola made history this year by winning best actor in a play for oh mary\n",
            "\n",
            "\n",
            "Most negative summary (compound = -0.758):\n",
            "\n",
            "israel took control of the ship and detained human rights defenders on board israel s foreign ministry announced on social media platform x formerly twitter that the ship will be steered to israel from where the passengers are expected to return to their home countries and the aid material including baby food medicines and essentials it confiscated would be transferred to gaza through humanitarian channels there have been repeated instances of shootings of desperate and starving palestinians who come to the aid distribution centres run by gaza human\n"
          ]
        }
      ],
      "source": [
        "# Find index of the most positive (max compound) and most negative (min compound) summaries\n",
        "max_idx = df['sent_compound'].idxmax()\n",
        "min_idx = df['sent_compound'].idxmin()\n",
        "\n",
        "# Retrieve the scores\n",
        "max_score = df.loc[max_idx, 'sent_compound']\n",
        "min_score = df.loc[min_idx, 'sent_compound']\n",
        "\n",
        "# Print the full clean summaries along with their sentiment scores\n",
        "print(\"Most positive summary (compound = {:.3f}):\\n\".format(max_score))\n",
        "print(df.loc[max_idx, 'clean_summary'])\n",
        "\n",
        "\n",
        "print(\"\\n\\nMost negative summary (compound = {:.3f}):\\n\".format(min_score))\n",
        "print(df.loc[min_idx, 'clean_summary'])"
      ]
    },
    {
      "cell_type": "markdown",
      "metadata": {
        "id": "ODtKNUO-jXV1"
      },
      "source": [
        "***My code:***"
      ]
    },
    {
      "cell_type": "code",
      "execution_count": 49,
      "metadata": {
        "colab": {
          "base_uri": "https://localhost:8080/",
          "height": 397
        },
        "id": "6VwDtN1IlyX6",
        "outputId": "f1c807a0-73aa-4bd2-8cf1-8c5ebb409d93"
      },
      "outputs": [
        {
          "data": {
            "image/png": "[encoded data removed]",
            "text/plain": [
              "<Figure size 1000x600 with 1 Axes>"
            ]
          },
          "metadata": {},
          "output_type": "display_data"
        }
      ],
      "source": [
        "import matplotlib.pyplot as plt\n",
        "\n",
        "# Create a scatter plot of timestamp vs sentiment compound score\n",
        "plt.figure(figsize=(10, 6)) # Set the figure size\n",
        "plt.scatter(df['timestamp'], df['sent_compound'])\n",
        "plt.xlabel('Timestamp')\n",
        "plt.ylabel('Sentiment Compound Score')\n",
        "plt.title('Sentiment Over Time')\n",
        "plt.grid(True)\n",
        "plt.show()"
      ]
    },
    {
      "cell_type": "code",
      "execution_count": 61,
      "metadata": {
        "colab": {
          "base_uri": "https://localhost:8080/",
          "height": 450,
          "referenced_widgets": [
            "111dc26ebdb346faa89eb162a5e18698",
            "9ac9af1a07084b3eba8b3217de9b6618",
            "e9182d69d08b4ea69d888af90a75af29",
            "dff5b7b0fba34bab844924918dfb4520",
            "ce7dd561fada4a7e95892ba65e4eddfe",
            "5aa310653b144962a4add36fdbf34ba2",
            "f7b43bf50df343a0a7b5bee4d778bf72"
          ]
        },
        "id": "GU6Q2iY3mrIu",
        "outputId": "827eb35c-0d18-4c44-cd54-58202022074c"
      },
      "outputs": [
        {
          "data": {
            "application/vnd.jupyter.widget-view+json": {
              "model_id": "111dc26ebdb346faa89eb162a5e18698",
              "version_major": 2,
              "version_minor": 0
            },
            "text/plain": [
              "interactive(children=(IntSlider(value=0, continuous_update=False, description='Result Index:', max=7), Output(…"
            ]
          },
          "metadata": {},
          "output_type": "display_data"
        }
      ],
      "source": [
        "import ipywidgets as widgets\n",
        "from IPython.display import display\n",
        "import matplotlib.pyplot as plt\n",
        "import pandas as pd # Make sure pandas is imported\n",
        "\n",
        "# Assuming 'df' is your DataFrame containing 'timestamp' and 'sent_compound'\n",
        "\n",
        "# Convert timestamp to datetime with error handling\n",
        "df['timestamp'] = pd.to_datetime(df['timestamp'], format='%Y-%m-%dT%H:%M:%S%z', errors='coerce')\n",
        "\n",
        "# Drop rows where the timestamp conversion failed (resulted in NaT)\n",
        "df.dropna(subset=['timestamp'], inplace=True)\n",
        "\n",
        "# Sort by timestamp to ensure slider works correctly\n",
        "df = df.sort_values(by='timestamp').reset_index(drop=True)\n",
        "\n",
        "# ... rest of your code for update_plot and slider\n",
        "\n",
        "\n",
        "def update_plot(index):\n",
        "    \"\"\"Updates the plot to highlight the data point at the given index.\"\"\"\n",
        "    plt.figure(figsize=(10, 6))\n",
        "    plt.scatter(df['timestamp'], df['sent_compound'], label='All Results') # Plot all points\n",
        "    if 0 <= index < len(df):\n",
        "        plt.scatter(df['timestamp'].iloc[index], df['sent_compound'].iloc[index], color='red', label='Selected Result') # Highlight selected point\n",
        "        plt.title(f\"Sentiment Over Time (Selected: {df['timestamp'].iloc[index].strftime('%Y-%m-%d %H:%M:%S')})\")\n",
        "    else:\n",
        "        plt.title(\"Sentiment Over Time\")\n",
        "\n",
        "    plt.xlabel('Timestamp')\n",
        "    plt.ylabel('Sentiment Compound Score')\n",
        "    plt.grid(True)\n",
        "    plt.legend()\n",
        "    plt.show()\n",
        "\n",
        "# Create a slider widget based on the DataFrame index\n",
        "timestamp_slider = widgets.IntSlider(\n",
        "    min=0,\n",
        "    max=len(df) - 1,\n",
        "    step=1,\n",
        "    description='Result Index:',\n",
        "    continuous_update=False,\n",
        "    orientation='horizontal',\n",
        "    readout=True,\n",
        "    readout_format='d'\n",
        ")\n",
        "\n",
        "# Use interactive to link the slider to the update_plot function\n",
        "widgets.interactive(update_plot, index=timestamp_slider)"
      ]
    },
    {
      "cell_type": "code",
      "execution_count": 65,
      "metadata": {
        "colab": {
          "base_uri": "https://localhost:8080/",
          "height": 490
        },
        "id": "Z4eZtBeCruhS",
        "outputId": "4869432f-70ae-4643-bf56-c2806b8b8892"
      },
      "outputs": [
        {
          "data": {
            "image/png": "[encoded data removed]",
            "text/plain": [
              "<Figure size 800x600 with 1 Axes>"
            ]
          },
          "metadata": {},
          "output_type": "display_data"
        }
      ],
      "source": [
        "import matplotlib.pyplot as plt\n",
        "\n",
        "# Create a box plot of the 'sent_compound' column\n",
        "plt.figure(figsize=(8, 6)) # Set the figure size\n",
        "plt.boxplot(df['sent_compound'])\n",
        "plt.ylabel('Sentiment Compound Score')\n",
        "plt.title('Distribution of Sentiment Compound Scores')\n",
        "plt.grid(True)\n",
        "plt.show()"
      ]
    },
    {
      "cell_type": "code",
      "execution_count": 69,
      "metadata": {
        "colab": {
          "base_uri": "https://localhost:8080/",
          "height": 490
        },
        "id": "EuPrlfHatYrf",
        "outputId": "724fac3f-4df0-4492-b517-c0084d5b7ff6"
      },
      "outputs": [
        {
          "name": "stderr",
          "output_type": "stream",
          "text": [
            "<ipython-input-69-7e93c9d1de9a>:22: MatplotlibDeprecationWarning: The 'labels' parameter of boxplot() has been renamed 'tick_labels' since Matplotlib 3.9; support for the old name will be dropped in 3.11.\n",
            "  plt.boxplot(boxplot_data, labels=labels, patch_artist=True) # Use patch_artist for colored boxes\n"
          ]
        },
        {
          "data": {
            "image/png": "[encoded data removed]",
            "text/plain": [
              "<Figure size 1200x800 with 1 Axes>"
            ]
          },
          "metadata": {},
          "output_type": "display_data"
        }
      ],
      "source": [
        "import matplotlib.pyplot as plt\n",
        "import numpy as np # Import numpy\n",
        "import pandas as pd # Ensure pandas is imported if you haven't already\n",
        "\n",
        "# Make sure 'timestamp' is in datetime format\n",
        "df['timestamp'] = pd.to_datetime(df['timestamp'])\n",
        "\n",
        "# Extract the date\n",
        "df['date'] = df['timestamp'].dt.date\n",
        "\n",
        "# Group by date and get the sentiment scores for each day\n",
        "sentiment_by_day = df.groupby('date')['sent_compound'].apply(list)\n",
        "\n",
        "# Prepare data for boxplot\n",
        "# Matplotlib's boxplot expects a list of arrays or lists, where each represents a group\n",
        "boxplot_data = [np.array(scores) for scores in sentiment_by_day.values]\n",
        "\n",
        "# Get dates as labels and format them\n",
        "labels = [date.strftime('%Y-%m-%d') for date in sentiment_by_day.index]\n",
        "\n",
        "plt.figure(figsize=(12, 8)) # Adjust figure size for multiple box plots\n",
        "plt.boxplot(boxplot_data, labels=labels, patch_artist=True) # Use patch_artist for colored boxes\n",
        "plt.xlabel('Date')\n",
        "plt.ylabel('Sentiment Compound Score')\n",
        "plt.title('Sentiment Distribution by Day')\n",
        "plt.xticks(rotation=45, ha='right') # Rotate x-axis labels for readability\n",
        "plt.tight_layout() # Adjust layout to prevent labels from overlapping\n",
        "plt.grid(True, axis='y') # Add grid lines on the y-axis\n",
        "plt.show()"
      ]
    },
    {
      "cell_type": "markdown",
      "metadata": {
        "id": "P3uEBnGrqxlA"
      },
      "source": [
        "## Project Ideas\n",
        "\n",
        "Feel free to use this code to start your own project, and here are some (Chat-GPT generated 😬) ideas for projects:\n",
        "\n",
        "* Real-Time Sentiment Pulse: Visualize sentiment trends over the past 24-48 hours for any keyword.\n",
        "\n",
        "* One-Click News Brief: Generate a 3-sentence summary of today's top articles on a given topic.\n",
        "\n",
        "* Bias/Slant Detector: Compare headlines from multiple outlets on the same event and label their bias.\n",
        "\n",
        "* Event Timeline Generator: Autofill a chronological list of key dates and summaries for any query.\n",
        "\n",
        "* Breaking News Alert Bot: Push a short alert whenever article volume spikes or sentiment turns extreme.\n",
        "\n",
        "* Multilingual Hashtag Trend Mapper: Show related hashtags and translations across different languages.\n",
        "\n",
        "* Rumor vs. Fact Checker: Verify a user-provided statement against recent reputable sources.\n",
        "\n",
        "* “What's Changed?” Comparator: Highlight how coverage of a topic has shifted from last month to last week.\n",
        "\n",
        "* Geo-Mood Map: Color-code countries by average sentiment or topic intensity on a query.\n",
        "\n",
        "* Voice-Activated News Q&A: Let users speak a question and hear back a 2–3 sentence summary of current events."
      ]
    },
    {
      "cell_type": "markdown",
      "metadata": {
        "id": "ZfH0xonVrTwz"
      },
      "source": [
        "## Dashboard libraries for Python\n",
        "\n",
        "https://shiny.posit.co/py/\n",
        "\n",
        "https://dash.plotly.com/\n",
        "\n",
        "https://streamlit.io/\n",
        "\n"
      ]
    },
    {
      "cell_type": "code",
      "execution_count": null,
      "metadata": {
        "id": "j2lU_lu5pxR5"
      },
      "outputs": [],
      "source": []
    }
  ],
  "metadata": {
    "colab": {
      "provenance": []
    },
    "kernelspec": {
      "display_name": ".venv",
      "language": "python",
      "name": "python3"
    },
    "language_info": {
      "codemirror_mode": {
        "name": "ipython",
        "version": 3
      },
      "file_extension": ".py",
      "mimetype": "text/x-python",
      "name": "python",
      "nbconvert_exporter": "python",
      "pygments_lexer": "ipython3",
      "version": "3.13.4"
    },
    "widgets": {
      "application/vnd.jupyter.widget-state+json": {
        "111dc26ebdb346faa89eb162a5e18698": {
          "model_module": "@jupyter-widgets/controls",
          "model_module_version": "1.5.0",
          "model_name": "VBoxModel",
          "state": {
            "_dom_classes": [
              "widget-interact"
            ],
            "_model_module": "@jupyter-widgets/controls",
            "_model_module_version": "1.5.0",
            "_model_name": "VBoxModel",
            "_view_count": null,
            "_view_module": "@jupyter-widgets/controls",
            "_view_module_version": "1.5.0",
            "_view_name": "VBoxView",
            "box_style": "",
            "children": [
              "IPY_MODEL_9ac9af1a07084b3eba8b3217de9b6618",
              "IPY_MODEL_e9182d69d08b4ea69d888af90a75af29"
            ],
            "layout": "IPY_MODEL_dff5b7b0fba34bab844924918dfb4520"
          }
        },
        "5aa310653b144962a4add36fdbf34ba2": {
          "model_module": "@jupyter-widgets/controls",
          "model_module_version": "1.5.0",
          "model_name": "SliderStyleModel",
          "state": {
            "_model_module": "@jupyter-widgets/controls",
            "_model_module_version": "1.5.0",
            "_model_name": "SliderStyleModel",
            "_view_count": null,
            "_view_module": "@jupyter-widgets/base",
            "_view_module_version": "1.2.0",
            "_view_name": "StyleView",
            "description_width": "",
            "handle_color": null
          }
        },
        "9ac9af1a07084b3eba8b3217de9b6618": {
          "model_module": "@jupyter-widgets/controls",
          "model_module_version": "1.5.0",
          "model_name": "IntSliderModel",
          "state": {
            "_dom_classes": [],
            "_model_module": "@jupyter-widgets/controls",
            "_model_module_version": "1.5.0",
            "_model_name": "IntSliderModel",
            "_view_count": null,
            "_view_module": "@jupyter-widgets/controls",
            "_view_module_version": "1.5.0",
            "_view_name": "IntSliderView",
            "continuous_update": false,
            "description": "Result Index:",
            "description_tooltip": null,
            "disabled": false,
            "layout": "IPY_MODEL_ce7dd561fada4a7e95892ba65e4eddfe",
            "max": 7,
            "min": 0,
            "orientation": "horizontal",
            "readout": true,
            "readout_format": "d",
            "step": 1,
            "style": "IPY_MODEL_5aa310653b144962a4add36fdbf34ba2",
            "value": 0
          }
        },
        "ce7dd561fada4a7e95892ba65e4eddfe": {
          "model_module": "@jupyter-widgets/base",
          "model_module_version": "1.2.0",
          "model_name": "LayoutModel",
          "state": {
            "_model_module": "@jupyter-widgets/base",
            "_model_module_version": "1.2.0",
            "_model_name": "LayoutModel",
            "_view_count": null,
            "_view_module": "@jupyter-widgets/base",
            "_view_module_version": "1.2.0",
            "_view_name": "LayoutView",
            "align_content": null,
            "align_items": null,
            "align_self": null,
            "border": null,
            "bottom": null,
            "display": null,
            "flex": null,
            "flex_flow": null,
            "grid_area": null,
            "grid_auto_columns": null,
            "grid_auto_flow": null,
            "grid_auto_rows": null,
            "grid_column": null,
            "grid_gap": null,
            "grid_row": null,
            "grid_template_areas": null,
            "grid_template_columns": null,
            "grid_template_rows": null,
            "height": null,
            "justify_content": null,
            "justify_items": null,
            "left": null,
            "margin": null,
            "max_height": null,
            "max_width": null,
            "min_height": null,
            "min_width": null,
            "object_fit": null,
            "object_position": null,
            "order": null,
            "overflow": null,
            "overflow_x": null,
            "overflow_y": null,
            "padding": null,
            "right": null,
            "top": null,
            "visibility": null,
            "width": null
          }
        },
        "dff5b7b0fba34bab844924918dfb4520": {
          "model_module": "@jupyter-widgets/base",
          "model_module_version": "1.2.0",
          "model_name": "LayoutModel",
          "state": {
            "_model_module": "@jupyter-widgets/base",
            "_model_module_version": "1.2.0",
            "_model_name": "LayoutModel",
            "_view_count": null,
            "_view_module": "@jupyter-widgets/base",
            "_view_module_version": "1.2.0",
            "_view_name": "LayoutView",
            "align_content": null,
            "align_items": null,
            "align_self": null,
            "border": null,
            "bottom": null,
            "display": null,
            "flex": null,
            "flex_flow": null,
            "grid_area": null,
            "grid_auto_columns": null,
            "grid_auto_flow": null,
            "grid_auto_rows": null,
            "grid_column": null,
            "grid_gap": null,
            "grid_row": null,
            "grid_template_areas": null,
            "grid_template_columns": null,
            "grid_template_rows": null,
            "height": null,
            "justify_content": null,
            "justify_items": null,
            "left": null,
            "margin": null,
            "max_height": null,
            "max_width": null,
            "min_height": null,
            "min_width": null,
            "object_fit": null,
            "object_position": null,
            "order": null,
            "overflow": null,
            "overflow_x": null,
            "overflow_y": null,
            "padding": null,
            "right": null,
            "top": null,
            "visibility": null,
            "width": null
          }
        },
        "e9182d69d08b4ea69d888af90a75af29": {
          "model_module": "@jupyter-widgets/output",
          "model_module_version": "1.0.0",
          "model_name": "OutputModel",
          "state": {
            "_dom_classes": [],
            "_model_module": "@jupyter-widgets/output",
            "_model_module_version": "1.0.0",
            "_model_name": "OutputModel",
            "_view_count": null,
            "_view_module": "@jupyter-widgets/output",
            "_view_module_version": "1.0.0",
            "_view_name": "OutputView",
            "layout": "IPY_MODEL_f7b43bf50df343a0a7b5bee4d778bf72",
            "msg_id": "",
            "outputs": [
              {
                "data": {
                  "image/png": "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\n",
                  "text/plain": "<Figure size 1000x600 with 1 Axes>"
                },
                "metadata": {},
                "output_type": "display_data"
              }
            ]
          }
        },
        "f7b43bf50df343a0a7b5bee4d778bf72": {
          "model_module": "@jupyter-widgets/base",
          "model_module_version": "1.2.0",
          "model_name": "LayoutModel",
          "state": {
            "_model_module": "@jupyter-widgets/base",
            "_model_module_version": "1.2.0",
            "_model_name": "LayoutModel",
            "_view_count": null,
            "_view_module": "@jupyter-widgets/base",
            "_view_module_version": "1.2.0",
            "_view_name": "LayoutView",
            "align_content": null,
            "align_items": null,
            "align_self": null,
            "border": null,
            "bottom": null,
            "display": null,
            "flex": null,
            "flex_flow": null,
            "grid_area": null,
            "grid_auto_columns": null,
            "grid_auto_flow": null,
            "grid_auto_rows": null,
            "grid_column": null,
            "grid_gap": null,
            "grid_row": null,
            "grid_template_areas": null,
            "grid_template_columns": null,
            "grid_template_rows": null,
            "height": null,
            "justify_content": null,
            "justify_items": null,
            "left": null,
            "margin": null,
            "max_height": null,
            "max_width": null,
            "min_height": null,
            "min_width": null,
            "object_fit": null,
            "object_position": null,
            "order": null,
            "overflow": null,
            "overflow_x": null,
            "overflow_y": null,
            "padding": null,
            "right": null,
            "top": null,
            "visibility": null,
            "width": null
          }
        }
      }
    }
  },
  "nbformat": 4,
  "nbformat_minor": 0
}
