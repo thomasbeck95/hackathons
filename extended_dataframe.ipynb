{
  "cells": [
    {
      "cell_type": "code",
      "execution_count": 247,
      "metadata": {
        "id": "3gqtedP6bpJd"
      },
      "outputs": [],
      "source": [
        "import requests\n",
        "import json\n",
        "import pandas as pd"
      ]
    },
    {
      "cell_type": "code",
      "execution_count": 248,
      "metadata": {
        "id": "EaXOuoEobw8O"
      },
      "outputs": [],
      "source": [
        "# API endpoint from the newly deployed service\n",
        "\n",
        "API_URL = \"https://zfgp45ih7i.execute-api.eu-west-1.amazonaws.com/sandbox/api/search\"\n",
        "API_KEY = \"XYZ38746G38B7RB46GBER\"\n",
        "\n",
        "headers = {\n",
        "    \"Content-Type\": \"application/json\",\n",
        "    \"x-api-key\": API_KEY\n",
        "}\n",
        "\n",
        "# Edit the below to get different data\n",
        "payload = {\n",
        "  \"query_text\": \"Welsh politics\",\n",
        "  \"result_size\": 50,\n",
        "  \"include_highlights\":True,\n",
        "  \"include_smart_tags\":True,\n",
        "  \"timerange\": \"7d\"\n",
        "}\n",
        "\n",
        "response = requests.post(API_URL, headers=headers, data=json.dumps(payload))\n",
        "json_response = response.json()\n",
        "\n",
        "#json_response"
      ]
    },
    {
      "cell_type": "code",
      "execution_count": 249,
      "metadata": {
        "id": "X-I9qDZdtwA5"
      },
      "outputs": [],
      "source": [
        "# ['1d', '7d', '30d', '180d', '365d', 'all']"
      ]
    },
    {
      "cell_type": "code",
      "execution_count": 250,
      "metadata": {
        "id": "tXvyZwRddUhd"
      },
      "outputs": [],
      "source": [
        "import pandas as pd\n",
        "\n",
        "#Create dataframe\n",
        "df = pd.DataFrame(json_response['results'])\n",
        "\n",
        "#Reformat date\n",
        "df['published_date'] = pd.to_datetime(df['timestamp'], errors='coerce').dt.date\n"
      ]
    },
    {
      "cell_type": "code",
      "execution_count": 251,
      "metadata": {
        "colab": {
          "base_uri": "https://localhost:8080/"
        },
        "id": "WCx9z9I0e9V1",
        "outputId": "1b032a00-d652-4f96-f180-ffe823b031e9"
      },
      "outputs": [
        {
          "name": "stdout",
          "output_type": "stream",
          "text": [
            "Welsh Government warned disability plan lacks key targets\n",
            "Planet Expands Business with Welsh Government for Land and Natural Resource Management\n",
            "Planet Expands Business with Welsh Government for Land and Natural Resource Management | PL Stock News\n",
            "First Minister and Future Generations Commissioner visit Borth climate change project\n",
            "£500,000 to 'significantly upgrade' public toilets on key travel routes across Powys\n",
            "Strata Florida visitor centre reopens thanks to local support\n",
            "More than 80 Powys patients left waiting two years for treatment, says Wales First Minister\n",
            "Welsh Conservatives seek farmland solar panel ban\n",
            "Dental care row continues as politician weighs in on local NHS crisis\n",
            "Britain's water sector 'failing' and needs stronger regulation, damning review finds\n",
            "Wales Offered Stark Choice Between ‘Reform-Led Government or Plaid Cymru’ – as Labour’s 26-year Rule Starts to Crumble\n",
            "Tories demand farm solar panel ban to protect Welsh food security\n",
            "Community heroes celebrated during Volunteers Week\n",
            "First Minister and Future Generations Commissioner visit Borth climate change project\n",
            "Free school meals offer in Wales under review\n",
            "Six candidates will be contesting the Llanidloes by-election next month\n",
            "Spending more than a penny on toilet upgrades across Mid Wales\n",
            "Water sector suffering from ‘deep-rooted’ failures, review warns\n",
            "End of life care in Wales ‘at breaking point’ health charity warns\n",
            "“We Deliver Facts, Not Fiction” – Spokesperson Heena Slams False Reports and Defends Government Actions\n",
            "VIDEO Britain's \"Hell Road\" has finally been fully opened after 23 years under Tony Blair's government, as the nearly £2 billion project now shows.\n",
            "End charges to access Wales’ coalmining heritage\n",
            "Dentists hand out pamphlets ‘spelling out’ huge impact of NHS patient reforms\n",
            "Everyone's talking about climate change actions, but can we learn from Wales’ approach?\n",
            "Wales’ rail infrastructure in ‘severe need of investment’, Ceredigion Preseli MP says\n",
            "Bouygues Construction to build Barry Waterfront Campus in Cardiff\n",
            "Royal Welsh Show bans English livestock amid bluetongue\n",
            "Bouygues Secures £119m Contract for Two College Projects in Wales\n",
            "Tredegar House to bee-come a sanctuary for fast-declining bumblebee species\n",
            "Brazil Updates List of Trade Prohibitions Following Avian Influenza Epidemic\n",
            "More Than 60 Jobs Safeguarded as Car Parts Manufacturer Upgrades for JLR Contract\n",
            "Aberystwyth University academic appointed to key healthcare sector role\n",
            "Written Statement: The Waste Electrical and Electronic Equipment (Amendment etc.) Regulations 2025\n",
            "Fury in Wales over new £6.6bn train line between two famous cities in England\n",
            "Inyanga Marine Energy announces contract winners\n",
            "Plans for new special needs school in Llanelli to take next steps\n",
            "Labour-led council's delay in delivering new parks 'a disgrace'\n",
            "Major step forward for £140m Cardiff Central station revamp\n",
            "Six-figure investment gets cliff railway back on track\n",
            "National Library of Wales missing 2,200 items\n",
            "First Minister pressured over reclassification of Oxford - Cambridge rail line\n",
            "Water sector review calls for better asset maintenance and closer supervision of firms\n",
            "National Library of Wales missing 2,200 items\n",
            "One year on: Most cats entering RSPCA care remain unmicrochipped\n",
            "BBC News\n",
            "‘There isn’t much left to trim’: AA chief lays bare real costs of education\n",
            "Network 10’s The Project to End After 16-Year Run\n",
            "Council leader defends Stevie Wonder and Alanis Morissette gigs in Cardiff park\n",
            "Attenborough tells William he hopes Ocean film will move people to action\n",
            "Planet Reports Financial Results for First Quarter of Fiscal Year 2026\n"
          ]
        }
      ],
      "source": [
        "#iterating with iterrows()\n",
        "\n",
        "for index, row in df.iterrows():\n",
        "  print(row['title'])"
      ]
    },
    {
      "cell_type": "code",
      "execution_count": 252,
      "metadata": {
        "colab": {
          "base_uri": "https://localhost:8080/"
        },
        "id": "B_tmNmQYikiz",
        "outputId": "c7968969-894d-4b24-b35e-99c30ddb180d"
      },
      "outputs": [
        {
          "name": "stdout",
          "output_type": "stream",
          "text": [
            "Requirement already satisfied: nltk in /usr/local/lib/python3.11/dist-packages (3.9.1)\n",
            "Requirement already satisfied: click in /usr/local/lib/python3.11/dist-packages (from nltk) (8.2.1)\n",
            "Requirement already satisfied: joblib in /usr/local/lib/python3.11/dist-packages (from nltk) (1.5.1)\n",
            "Requirement already satisfied: regex>=2021.8.3 in /usr/local/lib/python3.11/dist-packages (from nltk) (2024.11.6)\n",
            "Requirement already satisfied: tqdm in /usr/local/lib/python3.11/dist-packages (from nltk) (4.67.1)\n"
          ]
        },
        {
          "name": "stderr",
          "output_type": "stream",
          "text": [
            "[nltk_data] Downloading package punkt to /root/nltk_data...\n",
            "[nltk_data]   Package punkt is already up-to-date!\n",
            "[nltk_data] Downloading package averaged_perceptron_tagger to\n",
            "[nltk_data]     /root/nltk_data...\n",
            "[nltk_data]   Package averaged_perceptron_tagger is already up-to-\n",
            "[nltk_data]       date!\n",
            "[nltk_data] Downloading package maxent_ne_chunker to\n",
            "[nltk_data]     /root/nltk_data...\n",
            "[nltk_data]   Package maxent_ne_chunker is already up-to-date!\n",
            "[nltk_data] Downloading package words to /root/nltk_data...\n",
            "[nltk_data]   Package words is already up-to-date!\n",
            "[nltk_data] Downloading package averaged_perceptron_tagger_eng to\n",
            "[nltk_data]     /root/nltk_data...\n",
            "[nltk_data]   Package averaged_perceptron_tagger_eng is already up-to-\n",
            "[nltk_data]       date!\n",
            "[nltk_data] Downloading package maxent_ne_chunker_tab to\n",
            "[nltk_data]     /root/nltk_data...\n",
            "[nltk_data]   Package maxent_ne_chunker_tab is already up-to-date!\n"
          ]
        },
        {
          "data": {
            "text/plain": [
              "True"
            ]
          },
          "execution_count": 252,
          "metadata": {},
          "output_type": "execute_result"
        }
      ],
      "source": [
        "!pip install nltk\n",
        "import nltk\n",
        "nltk.download('punkt')         # For word tokenization\n",
        "nltk.download('averaged_perceptron_tagger') # For Part-of-Speech tagging\n",
        "nltk.download('maxent_ne_chunker') # For named entity chunking\n",
        "nltk.download('words')         # Used by ne_chunker\n",
        "nltk.download('averaged_perceptron_tagger_eng')\n",
        "nltk.download('maxent_ne_chunker_tab')"
      ]
    },
    {
      "cell_type": "code",
      "execution_count": 253,
      "metadata": {
        "id": "GztuGzfQgRdW"
      },
      "outputs": [],
      "source": [
        "#get NER with nltk\n",
        "\n",
        "#tokenize the text\n",
        "from nltk.tokenize import word_tokenize\n",
        "def tokenize(text):\n",
        "  tokens = word_tokenize(text)\n",
        "  return tokens\n",
        "\n",
        "#tag parts of speech\n",
        "from nltk.tag import pos_tag\n",
        "\n",
        "def POSTag(tokens):\n",
        "  pos_tags = pos_tag(tokens)\n",
        "  return pos_tags\n",
        "\n",
        "#named entity recognition\n",
        "from nltk.chunk import ne_chunk\n",
        "\n",
        "def NER(pos_tags):\n",
        "  ner_tree = ne_chunk(pos_tags)\n",
        "  return ner_tree\n",
        "\n"
      ]
    },
    {
      "cell_type": "code",
      "execution_count": 254,
      "metadata": {
        "id": "SsHn1ALYjItt"
      },
      "outputs": [],
      "source": [
        "#trees = []\n",
        "#\n",
        "#for index, row in df.iterrows():\n",
        "#  trees.append(NER(POSTag(tokenize(row['summary']))))"
      ]
    },
    {
      "cell_type": "code",
      "execution_count": 255,
      "metadata": {
        "id": "-c5T2QESjv5a"
      },
      "outputs": [],
      "source": [
        "#def get_named_entities(tree):\n",
        "#  named_entities = []\n",
        "#  for chunk in tree:\n",
        "#      if hasattr(chunk, 'label'):\n",
        "#          entity = \" \".join(c[0] for c in chunk)\n",
        "#          entity_type = chunk.label()\n",
        "#          named_entities.append((entity, entity_type))\n",
        "#  return named_entities"
      ]
    },
    {
      "cell_type": "code",
      "execution_count": 256,
      "metadata": {
        "id": "jImgeIxvkvQt"
      },
      "outputs": [],
      "source": [
        "#NEs = [get_named_entities(tree) for tree in trees]"
      ]
    },
    {
      "cell_type": "code",
      "execution_count": 257,
      "metadata": {
        "colab": {
          "base_uri": "https://localhost:8080/"
        },
        "id": "EI2c6KxVlAsT",
        "outputId": "4029e822-93fc-4f64-dcd9-65c7a41e884c"
      },
      "outputs": [
        {
          "data": {
            "text/plain": [
              "[[('Welsh Government', 'PERSON'),\n",
              "  ('Mark Isherwood', 'PERSON'),\n",
              "  ('Senedd', 'ORGANIZATION')],\n",
              " [('Planet', 'PERSON'),\n",
              "  ('Labs PBC', 'PERSON'),\n",
              "  ('NYSE', 'ORGANIZATION'),\n",
              "  ('Planet', 'PERSON'),\n",
              "  ('Welsh', 'GPE'),\n",
              "  ('Planet', 'PERSON'),\n",
              "  ('SkySat', 'ORGANIZATION'),\n",
              "  ('PlanetScope', 'ORGANIZATION'),\n",
              "  ('Planet Fusion', 'PERSON')],\n",
              " [('Planet', 'PERSON'),\n",
              "  ('Labs PBC', 'PERSON'),\n",
              "  ('Planet', 'PERSON'),\n",
              "  ('SkySat', 'ORGANIZATION'),\n",
              "  ('PlanetScope', 'ORGANIZATION'),\n",
              "  ('Campus', 'GPE')],\n",
              " [('Eluned Morgan', 'PERSON'),\n",
              "  ('Commissioner Derek Walker', 'ORGANIZATION'),\n",
              "  ('Welsh', 'ORGANIZATION'),\n",
              "  ('Energy Service', 'PERSON')],\n",
              " [('Welsh', 'GPE'),\n",
              "  ('Powys', 'GPE'),\n",
              "  ('Llandrindod Wells', 'PERSON'),\n",
              "  ('Mid Wales', 'GPE')],\n",
              " [('Cadw', 'GPE'),\n",
              "  ('Welsh', 'ORGANIZATION'),\n",
              "  ('Strata Florida Trust', 'ORGANIZATION'),\n",
              "  ('StratA Florida', 'ORGANIZATION')],\n",
              " [('Powys', 'GPE'), ('Montgomeryshire MS Russell George', 'PERSON')],\n",
              " [('Senedd', 'ORGANIZATION'),\n",
              "  ('Welsh', 'GPE'),\n",
              "  ('Wales', 'PERSON'),\n",
              "  ('Renewable Cymru', 'PERSON'),\n",
              "  ('Wales', 'PERSON')],\n",
              " [('NHS', 'ORGANIZATION')],\n",
              " [('UK', 'ORGANIZATION'), ('Welsh', 'GPE')],\n",
              " [('Labour', 'PERSON'),\n",
              "  ('Welsh', 'GPE'),\n",
              "  ('Reform UK', 'PERSON'),\n",
              "  ('Wales', 'GPE'),\n",
              "  ('Starmer', 'PERSON'),\n",
              "  ('Welsh Labour', 'PERSON')],\n",
              " [('Welsh Conservatives', 'ORGANIZATION'),\n",
              "  ('Wales', 'PERSON'),\n",
              "  ('Wales', 'PERSON')],\n",
              " [('Wales', 'GPE'), ('Welsh', 'ORGANIZATION'), ('Wales', 'PERSON')],\n",
              " [('Star', 'ORGANIZATION'),\n",
              "  ('Sea', 'ORGANIZATION'),\n",
              "  ('Borth', 'GPE'),\n",
              "  ('Eluned Morgan', 'PERSON'),\n",
              "  ('Commissioner Derek Walker', 'ORGANIZATION'),\n",
              "  ('Welsh', 'ORGANIZATION'),\n",
              "  ('Energy Service', 'PERSON')],\n",
              " [('Welsh', 'ORGANIZATION'), ('England', 'GPE')],\n",
              " [('Liberal Democrat Gareth', 'ORGANIZATION'), ('Wales', 'GPE')],\n",
              " [('Welsh', 'GPE'),\n",
              "  ('Powys County Council', 'PERSON'),\n",
              "  ('Knighton', 'GPE'),\n",
              "  ('Llandrindod Wells', 'PERSON'),\n",
              "  ('LlanwrtydWells', 'ORGANIZATION'),\n",
              "  ('Rhayader', 'ORGANIZATION'),\n",
              "  ('Llundrindor Wells', 'PERSON'),\n",
              "  ('Mid Wales', 'GPE')],\n",
              " [('UK', 'ORGANIZATION'),\n",
              "  ('Welsh', 'GPE'),\n",
              "  ('Britain', 'GPE'),\n",
              "  ('Thames Water', 'PERSON'),\n",
              "  ('KKR', 'ORGANIZATION')],\n",
              " [('Marie', 'PERSON'),\n",
              "  ('Curie Cymru', 'PERSON'),\n",
              "  ('NHS', 'ORGANIZATION'),\n",
              "  ('Wales', 'GPE'),\n",
              "  ('Peter Midlane', 'PERSON'),\n",
              "  ('Joyce', 'PERSON'),\n",
              "  ('Carmarthenshire', 'ORGANIZATION')],\n",
              " [('Heena', 'PERSON'), ('Waleed', 'PERSON')],\n",
              " [('A465', 'GPE'),\n",
              "  ('Valleys', 'ORGANIZATION'),\n",
              "  ('Wales', 'PERSON'),\n",
              "  ('Hell', 'ORGANIZATION')],\n",
              " [('April', 'PERSON'),\n",
              "  ('Committee', 'ORGANIZATION'),\n",
              "  ('Wales', 'PERSON'),\n",
              "  ('European', 'GPE')],\n",
              " [('NHS', 'ORGANIZATION'),\n",
              "  ('Wales', 'GPE'),\n",
              "  ('NHS', 'ORGANIZATION'),\n",
              "  ('British', 'GPE'),\n",
              "  ('Dental Association', 'ORGANIZATION'),\n",
              "  ('NHS', 'ORGANIZATION')],\n",
              " [('National Assembly', 'ORGANIZATION'),\n",
              "  ('Wales', 'GPE'),\n",
              "  ('Welsh', 'PERSON'),\n",
              "  ('Wales', 'GPE'),\n",
              "  ('Wales', 'PERSON')],\n",
              " [('Plaid', 'PERSON'),\n",
              "  ('Cymru', 'ORGANIZATION'),\n",
              "  ('HS2', 'ORGANIZATION'),\n",
              "  ('East West', 'LOCATION'),\n",
              "  ('Barnett', 'GPE'),\n",
              "  ('Lake', 'PERSON'),\n",
              "  ('Wales', 'PERSON'),\n",
              "  ('UK', 'ORGANIZATION')],\n",
              " [('Cardiff', 'GPE'),\n",
              "  ('Vale College', 'PERSON'),\n",
              "  ('CAVC', 'ORGANIZATION'),\n",
              "  ('Bouygues UK', 'PERSON'),\n",
              "  ('Barry Waterfront Campus', 'PERSON'),\n",
              "  ('Advanced Technology Centre', 'ORGANIZATION'),\n",
              "  ('Mutual Investment Model', 'ORGANIZATION'),\n",
              "  ('MIM', 'ORGANIZATION')],\n",
              " [('Royal', 'PERSON'),\n",
              "  ('Welsh Show', 'PERSON'),\n",
              "  ('England', 'GPE'),\n",
              "  ('Scotland', 'GPE')],\n",
              " [('Construction', 'GSP'),\n",
              "  ('South Wales', 'GPE'),\n",
              "  ('Barry Waterfront Campus', 'PERSON')],\n",
              " [('National', 'ORGANIZATION'),\n",
              "  ('Trust Cymru', 'PERSON'),\n",
              "  ('Bumblebee Conservation', 'ORGANIZATION'),\n",
              "  ('Tredegar House', 'ORGANIZATION'),\n",
              "  ('England', 'GPE'),\n",
              "  ('Wales', 'PERSON')],\n",
              " [('Brazil', 'PERSON'),\n",
              "  ('Updates List', 'PERSON'),\n",
              "  ('Trade Prohibitions', 'PERSON'),\n",
              "  ('Avian', 'GPE'),\n",
              "  ('Influenza Epidemic Share', 'ORGANIZATION'),\n",
              "  ('Unlock', 'GPE'),\n",
              "  ('Free Are', 'PERSON'),\n",
              "  ('Share', 'GPE'),\n",
              "  ('Latest S', 'PERSON'),\n",
              "  ('GSCI Agriculture Index Trade', 'ORGANIZATION'),\n",
              "  ('Brazil', 'GPE'),\n",
              "  ('EU', 'GPE'),\n",
              "  ('Euronext', 'GPE')],\n",
              " [('Welsh', 'ORGANIZATION'),\n",
              "  ('Economy Futures Fund', 'PERSON'),\n",
              "  ('JLR', 'ORGANIZATION')],\n",
              " [('Department', 'ORGANIZATION'),\n",
              "  ('Computer Science', 'ORGANIZATION'),\n",
              "  ('Health', 'GPE'),\n",
              "  ('Care Research Wales', 'PERSON'),\n",
              "  ('Wales', 'PERSON')],\n",
              " [('England', 'GPE'),\n",
              "  ('Scotland', 'GPE'),\n",
              "  ('Northern Ireland', 'GPE'),\n",
              "  ('Wales', 'PERSON'),\n",
              "  ('Environment', 'ORGANIZATION'),\n",
              "  ('Food', 'PERSON'),\n",
              "  ('Rural Affairs', 'ORGANIZATION'),\n",
              "  ('Environment', 'ORGANIZATION')],\n",
              " [('Oxford', 'PERSON'),\n",
              "  ('Cambridge', 'PERSON'),\n",
              "  ('Wales', 'GPE'),\n",
              "  ('UK', 'ORGANIZATION'),\n",
              "  ('England', 'GPE'),\n",
              "  ('Wales', 'PERSON'),\n",
              "  ('Wales', 'PERSON'),\n",
              "  ('Barnett Formula', 'PERSON')],\n",
              " [('Inyanga', 'PERSON'),\n",
              "  ('Marine Energy', 'PERSON'),\n",
              "  ('Hutchinson Engineering', 'PERSON'),\n",
              "  ('Ynys Mon', 'PERSON'),\n",
              "  ('Anglesey', 'ORGANIZATION')],\n",
              " [('Carmarthenshire', 'PERSON'),\n",
              "  ('Council', 'ORGANIZATION'),\n",
              "  ('Llanelli', 'GPE'),\n",
              "  ('Ysgol Heol Goffa', 'PERSON')],\n",
              " [('Langdon Road', 'PERSON'),\n",
              "  ('Swansea', 'GPE'),\n",
              "  ('BMX', 'ORGANIZATION'),\n",
              "  ('Updates Cllr Sam Bennett', 'PERSON')],\n",
              " [('Cardiff', 'PERSON'), ('Council', 'ORGANIZATION')],\n",
              " [('Aberystwyth', 'PERSON'),\n",
              "  ('Cliff Railway', 'PERSON'),\n",
              "  ('Great Britain', 'GPE'),\n",
              "  ('Development Bank', 'ORGANIZATION'),\n",
              "  ('Victorian', 'GPE')],\n",
              " [('National Library', 'ORGANIZATION'),\n",
              "  ('Wales', 'GPE'),\n",
              "  ('Century Powis Castle', 'ORGANIZATION')],\n",
              " [('Welsh', 'PERSON'),\n",
              "  ('East West Rail', 'LOCATION'),\n",
              "  ('English', 'GPE'),\n",
              "  ('England', 'GPE'),\n",
              "  ('Wales', 'PERSON'),\n",
              "  ('Wales', 'PERSON'),\n",
              "  ('Barnett', 'PERSON')],\n",
              " [('England', 'GPE'), ('Sir Jon Cunliffe', 'PERSON')],\n",
              " [('National Library', 'ORGANIZATION'),\n",
              "  ('Wales', 'PERSON'),\n",
              "  ('Century Powis Castle', 'ORGANIZATION'),\n",
              "  ('Gwrych Castle', 'PERSON'),\n",
              "  ('Abergele', 'GPE'),\n",
              "  ('Conwy', 'GPE')],\n",
              " [('England', 'GPE')],\n",
              " [('Ajax', 'ORGANIZATION'),\n",
              "  ('Merthyr Tydfil', 'GPE'),\n",
              "  ('UK', 'ORGANIZATION'),\n",
              "  ('Llanelec', 'PERSON'),\n",
              "  ('Neath', 'GPE')],\n",
              " [('Ingrid', 'GPE'), ('Schroder', 'PERSON')],\n",
              " [('Waleed Aly', 'PERSON'),\n",
              "  ('Sarah Harris', 'PERSON'),\n",
              "  ('Steve Price', 'PERSON'),\n",
              "  ('Sam Taunton', 'PERSON'),\n",
              "  ('Author Naziya Alvi Rahman', 'PERSON'),\n",
              "  ('Australia', 'GPE')],\n",
              " [('Blackweir', 'PERSON'),\n",
              "  ('Live', 'PERSON'),\n",
              "  ('Stevie Wonder', 'PERSON'),\n",
              "  ('Alanis Morissette', 'PERSON'),\n",
              "  ('Cardiff Council', 'PERSON')],\n",
              " [('Independent', 'ORGANIZATION'),\n",
              "  ('Sir David Attenborough', 'PERSON'),\n",
              "  ('Ocean', 'PERSON')],\n",
              " [('YoY', 'ORGANIZATION'),\n",
              "  ('Net Cash', 'ORGANIZATION'),\n",
              "  ('Operating Activities', 'ORGANIZATION'),\n",
              "  ('Positive Free Cash Flow', 'PERSON')]]"
            ]
          },
          "execution_count": 257,
          "metadata": {},
          "output_type": "execute_result"
        }
      ],
      "source": [
        "#These are a bit hit and miss\n",
        "#NEs"
      ]
    },
    {
      "cell_type": "code",
      "execution_count": 258,
      "metadata": {
        "id": "ItsMqfCRmqVF"
      },
      "outputs": [],
      "source": [
        "# NER with Spacy\n",
        "#!python -m spacy download en_core_web_md"
      ]
    },
    {
      "cell_type": "code",
      "execution_count": 259,
      "metadata": {
        "id": "7lKUkOhRnGbE"
      },
      "outputs": [],
      "source": [
        "import spacy\n",
        "nlp = spacy.load(\"en_core_web_md\")"
      ]
    },
    {
      "cell_type": "code",
      "execution_count": 260,
      "metadata": {
        "id": "n8F0GKFNnP61"
      },
      "outputs": [],
      "source": [
        "def get_NEs_Spacy(text):\n",
        "  NEs = []\n",
        "  doc = nlp(text)\n",
        "  for ent in doc.ents:\n",
        "    NEs.append((ent.text, ent.label_))\n",
        "  return NEs"
      ]
    },
    {
      "cell_type": "code",
      "execution_count": 261,
      "metadata": {
        "id": "fRW6giV1npvg"
      },
      "outputs": [],
      "source": [
        "spacy_nes = [get_NEs_Spacy(s) for s in df['summary']]"
      ]
    },
    {
      "cell_type": "code",
      "execution_count": 262,
      "metadata": {
        "id": "Am_B1KCboVyB"
      },
      "outputs": [],
      "source": [
        "#spacy_nes\n",
        "\n",
        "#Add to dataframe\n",
        "df['named_entities'] = spacy_nes"
      ]
    },
    {
      "cell_type": "code",
      "execution_count": 263,
      "metadata": {
        "id": "QvumJiRV1USh"
      },
      "outputs": [],
      "source": [
        "#Create columns of people and places\n",
        "people = []\n",
        "places = []\n",
        "\n",
        "for index, row in df.iterrows():\n",
        "  person = []\n",
        "  gpe = []\n",
        "  for entity in row['named_entities']:\n",
        "    if entity[1] == \"PERSON\":\n",
        "      person.append(entity[0])\n",
        "    if entity[1] == \"GPE\":\n",
        "      gpe.append(entity[0])\n",
        "  people.append(person)\n",
        "  places.append(gpe)\n",
        "\n",
        "#Add to dataframe\n",
        "df['people'] = people\n",
        "df['places'] = places\n"
      ]
    },
    {
      "cell_type": "code",
      "execution_count": null,
      "metadata": {
        "colab": {
          "base_uri": "https://localhost:8080/"
        },
        "id": "C9cuqfa1qrAg",
        "outputId": "c63d4200-518d-47bf-ce91-67a0fc45b530"
      },
      "outputs": [
        {
          "name": "stderr",
          "output_type": "stream",
          "text": [
            "Device set to use cpu\n"
          ]
        }
      ],
      "source": [
        "#emotion detection with huggingface\n",
        "\n",
        "from transformers import pipeline\n",
        "\n",
        "classifier = pipeline(\"sentiment-analysis\", model=\"j-hartmann/emotion-english-distilroberta-base\")\n",
        "\n",
        "emotion = []\n",
        "for s in df['summary']:\n",
        "  result = classifier(s, top_k=3)\n",
        "  emotion.append(result)\n",
        "\n",
        "#Add to dataframe\n",
        "df['emotions'] = emotion\n",
        "\n",
        "#df.groupby('published_date')"
      ]
    },
    {
      "cell_type": "code",
      "execution_count": 265,
      "metadata": {
        "colab": {
          "base_uri": "https://localhost:8080/"
        },
        "id": "Ertfbg0Jwd_d",
        "outputId": "838a812a-9053-405e-ec56-945221654d9b"
      },
      "outputs": [
        {
          "name": "stderr",
          "output_type": "stream",
          "text": [
            "[nltk_data] Downloading package vader_lexicon to /root/nltk_data...\n",
            "[nltk_data]   Package vader_lexicon is already up-to-date!\n"
          ]
        },
        {
          "data": {
            "text/plain": [
              "True"
            ]
          },
          "execution_count": 265,
          "metadata": {},
          "output_type": "execute_result"
        }
      ],
      "source": [
        "from nltk.sentiment.vader import SentimentIntensityAnalyzer\n",
        "nltk.download('vader_lexicon')"
      ]
    },
    {
      "cell_type": "code",
      "execution_count": 266,
      "metadata": {
        "id": "tDzRTc-sw25c"
      },
      "outputs": [],
      "source": [
        "## Clean data\n",
        "import re\n",
        "def clean_text(text):\n",
        "    \"\"\"\n",
        "    - Convert to lowercase\n",
        "    - Remove URLs\n",
        "    - Remove punctuation / non-alpha\n",
        "    - Collapse multiple spaces\n",
        "    \"\"\"\n",
        "    if not isinstance(text, str):\n",
        "        return \"\"\n",
        "    # Remove URLs (very basic)\n",
        "    text = re.sub(r\"http\\S+|www\\.\\S+\", \"\", text)\n",
        "    # Lowercase\n",
        "    text = text.lower()\n",
        "    # Keep only letters and spaces\n",
        "    text = re.sub(r\"[^a-z\\s]\", \" \", text)\n",
        "    # Collapse multiple spaces\n",
        "    text = re.sub(r\"\\s+\", \" \", text).strip()\n",
        "    return text\n",
        "\n",
        "df['clean_summary'] = df['summary'].apply(clean_text)\n"
      ]
    },
    {
      "cell_type": "code",
      "execution_count": 267,
      "metadata": {
        "colab": {
          "base_uri": "https://localhost:8080/"
        },
        "id": "AsAgAw6jw_zv",
        "outputId": "837cd8c9-828b-4a22-d54f-513892fd4671"
      },
      "outputs": [
        {
          "name": "stdout",
          "output_type": "stream",
          "text": [
            "                                        clean_summary  sent_compound\n",
            "5   cadw the welsh government s historic environme...         0.9587\n",
            "2   planet labs pbc pl is a premier provider of gl...         0.9169\n",
            "16  welsh government grant awarded to powys county...         0.9118\n",
            "23  national assembly for wales now welsh governme...         0.9118\n",
            "29  brazil updates list of trade prohibitions foll...         0.8591\n",
            "                                        clean_summary  sent_compound\n",
            "47  blackweir live will see world famous artists l...        -0.8847\n",
            "26  royal welsh show to ban livestock from england...        -0.8176\n",
            "20  a heads of the valleys in southern wales has b...        -0.7351\n",
            "6   first minister stated that there are about peo...        -0.7096\n",
            "39  about items are missing at the national librar...        -0.6486\n"
          ]
        }
      ],
      "source": [
        "## Sentiment analysis example\n",
        "\n",
        "sia = SentimentIntensityAnalyzer()\n",
        "\n",
        "def get_sentiment_scores(text):\n",
        "    \"\"\"\n",
        "    Returns a dict with these keys:\n",
        "       - neg: negative sentiment score\n",
        "       - neu: neutral score\n",
        "       - pos: positive score\n",
        "       - compound: normalized, weighted composite (-1 to +1)\n",
        "    \"\"\"\n",
        "    return sia.polarity_scores(text)\n",
        "\n",
        "# Apply to each summary\n",
        "df['sentiment'] = df['clean_summary'].apply(get_sentiment_scores)\n",
        "\n",
        "# Split into separate columns if you like\n",
        "df['sent_neg'] = df['sentiment'].apply(lambda d: d['neg'])\n",
        "df['sent_neu'] = df['sentiment'].apply(lambda d: d['neu'])\n",
        "df['sent_pos'] = df['sentiment'].apply(lambda d: d['pos'])\n",
        "df['sent_compound'] = df['sentiment'].apply(lambda d: d['compound'])\n",
        "\n",
        "# Quick look at top 5 compound scores\n",
        "print(df[['clean_summary', 'sent_compound']].sort_values(by='sent_compound', ascending=False).head())\n",
        "print(df[['clean_summary', 'sent_compound']].sort_values(by='sent_compound').head())\n"
      ]
    },
    {
      "cell_type": "code",
      "execution_count": 273,
      "metadata": {
        "colab": {
          "base_uri": "https://localhost:8080/"
        },
        "id": "fWejVqoOxVVV",
        "outputId": "76537fd3-e645-44a3-9b8e-67d7e8394b51"
      },
      "outputs": [
        {
          "name": "stdout",
          "output_type": "stream",
          "text": [
            "                    timestamp  \\\n",
            "17        2025-06-03T09:13:13   \n",
            "18  2025-06-03T10:41:54+00:00   \n",
            "9   2025-06-03T11:44:00+00:00   \n",
            "41  2025-06-03T12:48:08+00:00   \n",
            "2   2025-06-03T13:42:24+00:00   \n",
            "24  2025-06-03T14:13:30+00:00   \n",
            "1   2025-06-03T14:14:28+00:00   \n",
            "45  2025-06-04T07:53:07+00:00   \n",
            "33  2025-06-04T08:09:00+00:00   \n",
            "21  2025-06-04T09:46:23+00:00   \n",
            "6         2025-06-04T10:30:00   \n",
            "10  2025-06-04T15:54:15+00:00   \n",
            "29  2025-06-04T19:54:12+00:00   \n",
            "49  2025-06-04T20:12:54+00:00   \n",
            "27  2025-06-05T07:33:27+00:00   \n",
            "44  2025-06-05T07:51:24+00:00   \n",
            "22  2025-06-05T08:15:06+00:00   \n",
            "42  2025-06-05T22:01:04+00:00   \n",
            "39  2025-06-05T22:01:04+00:00   \n",
            "0   2025-06-06T05:16:25+00:00   \n",
            "4   2025-06-06T12:00:00+00:00   \n",
            "14  2025-06-06T12:35:48+00:00   \n",
            "37  2025-06-06T15:32:42+00:00   \n",
            "32  2025-06-07T08:51:16+00:00   \n",
            "36        2025-06-07T09:30:27   \n",
            "7   2025-06-07T11:02:49+00:00   \n",
            "19  2025-06-07T12:40:03+00:00   \n",
            "48        2025-06-07T17:00:24   \n",
            "23                 2025-06-08   \n",
            "11        2025-06-08T00:00:00   \n",
            "20  2025-06-08T04:05:01+00:00   \n",
            "3   2025-06-09T06:39:04+00:00   \n",
            "30  2025-06-09T07:24:52+00:00   \n",
            "8         2025-06-09T09:26:05   \n",
            "35  2025-06-09T09:46:17+00:00   \n",
            "25  2025-06-09T11:28:18+00:00   \n",
            "15        2025-06-09T12:30:00   \n",
            "34  2025-06-09T13:47:29+00:00   \n",
            "47  2025-06-09T17:53:46+00:00   \n",
            "46  2025-06-10T01:38:21+00:00   \n",
            "31  2025-06-10T04:00:41+00:00   \n",
            "38  2025-06-10T07:02:28+00:00   \n",
            "26  2025-06-10T10:30:00+00:00   \n",
            "43  2025-06-10T11:15:57+00:00   \n",
            "40        2025-06-10T15:37:22   \n",
            "5                        None   \n",
            "12                       None   \n",
            "13                       None   \n",
            "16                       None   \n",
            "28                       None   \n",
            "\n",
            "                                                title published_date  \\\n",
            "17  Water sector suffering from ‘deep-rooted’ fail...            NaT   \n",
            "18  End of life care in Wales ‘at breaking point’ ...     2025-06-03   \n",
            "9   Britain's water sector 'failing' and needs str...     2025-06-03   \n",
            "41  Water sector review calls for better asset mai...     2025-06-03   \n",
            "2   Planet Expands Business with Welsh Government ...     2025-06-03   \n",
            "24  Wales’ rail infrastructure in ‘severe need of ...     2025-06-03   \n",
            "1   Planet Expands Business with Welsh Government ...     2025-06-03   \n",
            "45  ‘There isn’t much left to trim’: AA chief lays...     2025-06-04   \n",
            "33  Fury in Wales over new £6.6bn train line betwe...     2025-06-04   \n",
            "21   End charges to access Wales’ coalmining heritage     2025-06-04   \n",
            "6   More than 80 Powys patients left waiting two y...            NaT   \n",
            "10  Wales Offered Stark Choice Between ‘Reform-Led...     2025-06-04   \n",
            "29  Brazil Updates List of Trade Prohibitions Foll...     2025-06-04   \n",
            "49  Planet Reports Financial Results for First Qua...     2025-06-04   \n",
            "27  Bouygues Secures £119m Contract for Two Colleg...     2025-06-05   \n",
            "44                                           BBC News     2025-06-05   \n",
            "22  Dentists hand out pamphlets ‘spelling out’ hug...     2025-06-05   \n",
            "42      National Library of Wales missing 2,200 items     2025-06-05   \n",
            "39      National Library of Wales missing 2,200 items     2025-06-05   \n",
            "0   Welsh Government warned disability plan lacks ...     2025-06-06   \n",
            "4   £500,000 to 'significantly upgrade' public toi...     2025-06-06   \n",
            "14      Free school meals offer in Wales under review     2025-06-06   \n",
            "37  Major step forward for £140m Cardiff Central s...     2025-06-06   \n",
            "32  Written Statement: The Waste Electrical and El...     2025-06-07   \n",
            "36  Labour-led council's delay in delivering new p...            NaT   \n",
            "7   Welsh Conservatives seek farmland solar panel ban     2025-06-07   \n",
            "19  “We Deliver Facts, Not Fiction” – Spokesperson...     2025-06-07   \n",
            "48  Attenborough tells William he hopes Ocean film...            NaT   \n",
            "23  Everyone's talking about climate change action...            NaT   \n",
            "11  Tories demand farm solar panel ban to protect ...            NaT   \n",
            "20  VIDEO Britain's \"Hell Road\" has finally been f...     2025-06-08   \n",
            "3   First Minister and Future Generations Commissi...     2025-06-09   \n",
            "30  More Than 60 Jobs Safeguarded as Car Parts Man...     2025-06-09   \n",
            "8   Dental care row continues as politician weighs...            NaT   \n",
            "35  Plans for new special needs school in Llanelli...     2025-06-09   \n",
            "25  Bouygues Construction to build Barry Waterfron...     2025-06-09   \n",
            "15  Six candidates will be contesting the Llanidlo...            NaT   \n",
            "34   Inyanga Marine Energy announces contract winners     2025-06-09   \n",
            "47  Council leader defends Stevie Wonder and Alani...     2025-06-09   \n",
            "46  Network 10’s The Project to End After 16-Year Run     2025-06-10   \n",
            "31  Aberystwyth University academic appointed to k...     2025-06-10   \n",
            "38  Six-figure investment gets cliff railway back ...     2025-06-10   \n",
            "26  Royal Welsh Show bans English livestock amid b...     2025-06-10   \n",
            "43  One year on: Most cats entering RSPCA care rem...     2025-06-10   \n",
            "40  First Minister pressured over reclassification...            NaT   \n",
            "5   Strata Florida visitor centre reopens thanks t...            NaT   \n",
            "12  Community heroes celebrated during Volunteers ...            NaT   \n",
            "13  First Minister and Future Generations Commissi...            NaT   \n",
            "16  Spending more than a penny on toilet upgrades ...            NaT   \n",
            "28  Tredegar House to bee-come a sanctuary for fas...            NaT   \n",
            "\n",
            "                                               people  \\\n",
            "17                                                 []   \n",
            "18          [Marie Curie Cymru, Peter Midlane, Joyce]   \n",
            "9                                                  []   \n",
            "41                                     [Jon Cunliffe]   \n",
            "2                                                  []   \n",
            "24                                                 []   \n",
            "1                                                  []   \n",
            "45                                [Ingrid Schroder's]   \n",
            "33                                                 []   \n",
            "21                                                 []   \n",
            "6                [Montgomeryshire MS, Russell George]   \n",
            "10                                          [Starmer]   \n",
            "29                                                 []   \n",
            "49                                                 []   \n",
            "27                                                 []   \n",
            "44                                         [Llanelec]   \n",
            "22                                                 []   \n",
            "42                                                 []   \n",
            "39                                                 []   \n",
            "0                                    [Mark Isherwood]   \n",
            "4                                             [Powys]   \n",
            "14                                                 []   \n",
            "37                                                 []   \n",
            "32                                                 []   \n",
            "36                                 [Cllr Sam Bennett]   \n",
            "7                                                  []   \n",
            "19                                     [Heena Waleed]   \n",
            "48                               [David Attenborough]   \n",
            "23                                                 []   \n",
            "11                                                 []   \n",
            "20                                                 []   \n",
            "3                       [Eluned Morgan, Derek Walker]   \n",
            "30                                                 []   \n",
            "8                                                  []   \n",
            "35                                 [Ysgol Heol Goffa]   \n",
            "25                                                 []   \n",
            "15                                    [Gareth Morgan]   \n",
            "34                                                 []   \n",
            "47                 [Stevie Wonder, Alanis Morissette]   \n",
            "46  [Waleed Aly, Sarah Harris, Steve Price, Sam Ta...   \n",
            "31                                 [Reyer Zwiggelaar]   \n",
            "38                                                 []   \n",
            "26                                 [Royal Welsh Show]   \n",
            "43                                    [Microchipping]   \n",
            "40                                          [Barnett]   \n",
            "5                                                  []   \n",
            "12                                                 []   \n",
            "13                      [Eluned Morgan, Derek Walker]   \n",
            "16                                         [Knighton]   \n",
            "28                                                 []   \n",
            "\n",
            "                                          places  \\\n",
            "17                                 [UK, Britain]   \n",
            "18                                       [Wales]   \n",
            "9                                           [UK]   \n",
            "41                                     [England]   \n",
            "2                                             []   \n",
            "24                          [England, Wales, UK]   \n",
            "1                                             []   \n",
            "45                                      [London]   \n",
            "33            [Cambridge, Wales, England, Wales]   \n",
            "21                                            []   \n",
            "6                                        [Powys]   \n",
            "10                                   [UK, Wales]   \n",
            "29                    [Brazil, Brazil, Euronext]   \n",
            "49                                            []   \n",
            "27                                 [South Wales]   \n",
            "44                                 [Merthyr, UK]   \n",
            "22                                       [Wales]   \n",
            "42               [Wales, Abergele, Conwy county]   \n",
            "39                                       [Wales]   \n",
            "0                                             []   \n",
            "4                                    [Mid Wales]   \n",
            "14                                     [England]   \n",
            "37                                            []   \n",
            "32  [England, Scotland, Northern Ireland, Wales]   \n",
            "36                                     [Swansea]   \n",
            "7                                        [Wales]   \n",
            "19                                            []   \n",
            "48                                            []   \n",
            "23                         [Wales, Wales, Wales]   \n",
            "11                                [Wales, Wales]   \n",
            "20                                       [Wales]   \n",
            "3                                             []   \n",
            "30                                   [Pontypool]   \n",
            "8                                             []   \n",
            "35                                    [Llanelli]   \n",
            "25                                          [UK]   \n",
            "15                                       [Wales]   \n",
            "34                          [Ynys Mon, Anglesey]   \n",
            "47                                            []   \n",
            "46                         [Canberra, Australia]   \n",
            "31                                       [Wales]   \n",
            "38                               [Great Britain]   \n",
            "26                           [England, Scotland]   \n",
            "43                                     [England]   \n",
            "40                              [England, Wales]   \n",
            "5                                      [Florida]   \n",
            "12                                [Wales, Wales]   \n",
            "13                                       [Borth]   \n",
            "16                                   [Mid Wales]   \n",
            "28                     [England, Wales, cowslip]   \n",
            "\n",
            "                                             emotions  \n",
            "17  [{'label': 'anger', 'score': 0.934566557407379...  \n",
            "18  [{'label': 'sadness', 'score': 0.4992645978927...  \n",
            "9   [{'label': 'anger', 'score': 0.977089583873748...  \n",
            "41  [{'label': 'neutral', 'score': 0.4514587223529...  \n",
            "2   [{'label': 'neutral', 'score': 0.8426939845085...  \n",
            "24  [{'label': 'anger', 'score': 0.333826065063476...  \n",
            "1   [{'label': 'neutral', 'score': 0.9266234636306...  \n",
            "45  [{'label': 'fear', 'score': 0.5778815746307373...  \n",
            "33  [{'label': 'anger', 'score': 0.984576880931854...  \n",
            "21  [{'label': 'neutral', 'score': 0.8233863115310...  \n",
            "6   [{'label': 'surprise', 'score': 0.694233834743...  \n",
            "10  [{'label': 'neutral', 'score': 0.3589976131916...  \n",
            "29  [{'label': 'fear', 'score': 0.5040428638458252...  \n",
            "49  [{'label': 'neutral', 'score': 0.4745788276195...  \n",
            "27  [{'label': 'joy', 'score': 0.6087732911109924}...  \n",
            "44  [{'label': 'joy', 'score': 0.5387448072433472}...  \n",
            "22  [{'label': 'fear', 'score': 0.9032315015792847...  \n",
            "42  [{'label': 'neutral', 'score': 0.4512977898120...  \n",
            "39  [{'label': 'sadness', 'score': 0.6271424889564...  \n",
            "0   [{'label': 'fear', 'score': 0.9471778869628906...  \n",
            "4   [{'label': 'neutral', 'score': 0.4271511435508...  \n",
            "14  [{'label': 'neutral', 'score': 0.5845689177513...  \n",
            "37  [{'label': 'joy', 'score': 0.5687494277954102}...  \n",
            "32  [{'label': 'neutral', 'score': 0.7883881926536...  \n",
            "36  [{'label': 'neutral', 'score': 0.7704663276672...  \n",
            "7   [{'label': 'neutral', 'score': 0.5803199410438...  \n",
            "19  [{'label': 'neutral', 'score': 0.8921319842338...  \n",
            "48  [{'label': 'neutral', 'score': 0.5442189574241...  \n",
            "23  [{'label': 'neutral', 'score': 0.8999258875846...  \n",
            "11  [{'label': 'neutral', 'score': 0.6457639336585...  \n",
            "20  [{'label': 'disgust', 'score': 0.5074768662452...  \n",
            "3   [{'label': 'joy', 'score': 0.5696942806243896}...  \n",
            "30  [{'label': 'joy', 'score': 0.5943039059638977}...  \n",
            "8   [{'label': 'neutral', 'score': 0.8903447389602...  \n",
            "35  [{'label': 'neutral', 'score': 0.8221172094345...  \n",
            "25  [{'label': 'neutral', 'score': 0.6419152617454...  \n",
            "15  [{'label': 'neutral', 'score': 0.5022549629211...  \n",
            "34  [{'label': 'joy', 'score': 0.6294234395027161}...  \n",
            "47  [{'label': 'anger', 'score': 0.975921332836151...  \n",
            "46  [{'label': 'sadness', 'score': 0.5619229078292...  \n",
            "31  [{'label': 'neutral', 'score': 0.8205854296684...  \n",
            "38  [{'label': 'neutral', 'score': 0.6760901808738...  \n",
            "26  [{'label': 'fear', 'score': 0.9733578562736511...  \n",
            "43  [{'label': 'neutral', 'score': 0.9120128154754...  \n",
            "40  [{'label': 'anger', 'score': 0.632821738719940...  \n",
            "5   [{'label': 'joy', 'score': 0.5461393594741821}...  \n",
            "12  [{'label': 'neutral', 'score': 0.6849328279495...  \n",
            "13  [{'label': 'joy', 'score': 0.7423645257949829}...  \n",
            "16  [{'label': 'neutral', 'score': 0.8483801484107...  \n",
            "28  [{'label': 'neutral', 'score': 0.5200072526931...  \n"
          ]
        }
      ],
      "source": [
        "new_additions = df[['timestamp', 'title', 'published_date', 'people', 'places', 'emotions']]\n",
        "print(new_additions.sort_values(by='timestamp'))"
      ]
    }
  ],
  "metadata": {
    "colab": {
      "provenance": []
    },
    "kernelspec": {
      "display_name": "Python 3",
      "name": "python3"
    },
    "language_info": {
      "name": "python"
    }
  },
  "nbformat": 4,
  "nbformat_minor": 0
}
