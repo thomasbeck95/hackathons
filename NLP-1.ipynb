{
 "cells": [
  {
   "cell_type": "code",
   "execution_count": 83,
   "metadata": {},
   "outputs": [
    {
     "name": "stderr",
     "output_type": "stream",
     "text": [
      "[nltk_data] Downloading package vader_lexicon to\n",
      "[nltk_data]     C:\\Users\\c24085394\\AppData\\Roaming\\nltk_data...\n",
      "[nltk_data]   Package vader_lexicon is already up-to-date!\n"
     ]
    },
    {
     "data": {
      "text/plain": [
       "True"
      ]
     },
     "execution_count": 83,
     "metadata": {},
     "output_type": "execute_result"
    }
   ],
   "source": [
    "# Import some libraries\n",
    "\n",
    "import requests\n",
    "import json\n",
    "import pandas as pd\n",
    "from datetime import datetime\n",
    "import re\n",
    "import nltk\n",
    "\n",
    "from nltk.sentiment.vader import SentimentIntensityAnalyzer\n",
    "nltk.download('vader_lexicon')"
   ]
  },
  {
   "cell_type": "code",
   "execution_count": 84,
   "metadata": {},
   "outputs": [],
   "source": [
    "# API endpoint from the newly deployed service\n",
    "\n",
    "API_URL = \"https://zfgp45ih7i.execute-api.eu-west-1.amazonaws.com/sandbox/api/search\"\n",
    "API_KEY = \"STU38746G38B7RB46GBER\"\n",
    "\n",
    "\n",
    "headers = {\n",
    "    \"Content-Type\": \"application/json\",\n",
    "    \"x-api-key\": API_KEY\n",
    "}\n",
    "\n",
    "query_text = \"gaza\"\n",
    "payload = {\n",
    "    \"query_text\": query_text,\n",
    "    \"result_size\": 100,  # One big request\n",
    "    \"include_highlights\": True,\n",
    "    \"include_smart_tags\": False\n",
    "}\n",
    "\n",
    "try:\n",
    "    response = requests.post(API_URL, headers=headers, data=json.dumps(payload), timeout=15)\n",
    "    response.raise_for_status()\n",
    "    json_response = response.json()\n",
    "except Exception as e:\n",
    "    print(f\"❌ Request failed: {e}\")\n",
    "    json_response = None\n",
    "\n",
    "if not json_response or 'results' not in json_response:\n",
    "    raise ValueError(\"❌ No results returned from the API.\")\n",
    "\n"
   ]
  },
  {
   "cell_type": "code",
   "execution_count": 86,
   "metadata": {},
   "outputs": [],
   "source": [
    "df = pd.json_normalize(json_response['results'])\n",
    "df['published_date'] = pd.to_datetime(df['timestamp'], errors='coerce').dt.date\n",
    "\n"
   ]
  },
  {
   "cell_type": "code",
   "execution_count": 87,
   "metadata": {},
   "outputs": [],
   "source": [
    "## Clean data\n",
    "\n",
    "def clean_text(text):\n",
    "    \"\"\"\n",
    "    - Convert to lowercase\n",
    "    - Remove URLs\n",
    "    - Remove punctuation / non-alpha\n",
    "    - Collapse multiple spaces\n",
    "    \"\"\"\n",
    "    if not isinstance(text, str):\n",
    "        return \"\"\n",
    "    # Remove URLs (very basic)\n",
    "    text = re.sub(r\"http\\S+|www\\.\\S+\", \"\", text)\n",
    "    # Lowercase\n",
    "    text = text.lower()\n",
    "    # Keep only letters and spaces\n",
    "    text = re.sub(r\"[^a-z\\s]\", \" \", text)\n",
    "    # Collapse multiple spaces\n",
    "    text = re.sub(r\"\\s+\", \" \", text).strip()\n",
    "    return text\n",
    "\n",
    "\n",
    "df['clean_summary'] = df['summary'].apply(clean_text)\n"
   ]
  },
  {
   "cell_type": "code",
   "execution_count": 88,
   "metadata": {},
   "outputs": [
    {
     "name": "stderr",
     "output_type": "stream",
     "text": [
      "C:\\Users\\c24085394\\AppData\\Local\\Temp\\ipykernel_4928\\4095247476.py:22: DeprecationWarning: DataFrameGroupBy.apply operated on the grouping columns. This behavior is deprecated, and in a future version of pandas the grouping columns will be excluded from the operation. Either pass `include_groups=False` to exclude the groupings or explicitly select the grouping columns after groupby to silence this warning.\n",
      "  daily_best = df.groupby('published_date').apply(lambda g: g.loc[g['sent_compound'].idxmax()]).reset_index(drop=True)\n",
      "C:\\Users\\c24085394\\AppData\\Local\\Temp\\ipykernel_4928\\4095247476.py:23: DeprecationWarning: DataFrameGroupBy.apply operated on the grouping columns. This behavior is deprecated, and in a future version of pandas the grouping columns will be excluded from the operation. Either pass `include_groups=False` to exclude the groupings or explicitly select the grouping columns after groupby to silence this warning.\n",
      "  daily_worst = df.groupby('published_date').apply(lambda g: g.loc[g['sent_compound'].idxmin()]).reset_index(drop=True)\n"
     ]
    }
   ],
   "source": [
    "## Sentiment analysis example\n",
    "\n",
    "sia = SentimentIntensityAnalyzer()\n",
    "\n",
    "def get_sentiment_scores(text):\n",
    "    \"\"\"\n",
    "    Returns a dict with these keys:\n",
    "       - neg: negative sentiment score\n",
    "       - neu: neutral score\n",
    "       - pos: positive score\n",
    "       - compound: normalized, weighted composite (-1 to +1)\n",
    "    \"\"\"\n",
    "    return sia.polarity_scores(text)\n",
    "\n",
    "\n",
    "\n",
    "df['clean_summary'] = df['summary'].apply(clean_text)\n",
    "df['sentiment'] = df['clean_summary'].apply(get_sentiment_scores)\n",
    "df['sent_compound'] = df['sentiment'].apply(lambda d: d['compound'])\n",
    "\n",
    "\n",
    "daily_best = df.groupby('published_date').apply(lambda g: g.loc[g['sent_compound'].idxmax()]).reset_index(drop=True)\n",
    "daily_worst = df.groupby('published_date').apply(lambda g: g.loc[g['sent_compound'].idxmin()]).reset_index(drop=True)\n"
   ]
  },
  {
   "cell_type": "code",
   "execution_count": 89,
   "metadata": {},
   "outputs": [
    {
     "name": "stdout",
     "output_type": "stream",
     "text": [
      "Most positive summary (compound = 0.875):\n",
      "\n",
      "palestinian rihan sherab is preparing a different holiday in the southern gaza strip in the midst of ongoing israeli attacks and shelling serab and his family found shelter in a tent in the mewasi area where he produces toys for sheep specially for eid al fitr every toy is a symbol of craftsmanship and love adding to the holiday cheer for children\n",
      "\n",
      "\n",
      "Most negative summary (compound = -0.986):\n",
      "\n",
      "the deadly attacks on desperate civilians trying to access the scarce amount of food aid in gaza are unacceptable says high commissioner volker t rk attacks directed against civilians constitute a grave breach of international law a war crime he says israel kills palestinians the gaza ministry of health reported that palestinian people were killed in the early hours of tuesday when israeli forces fired on a group of people moving to an aid distribution site in the southern gaza strip\n"
     ]
    }
   ],
   "source": [
    "# Find index of the most positive (max compound) and most negative (min compound) summaries\n",
    "max_idx = df['sent_compound'].idxmax()\n",
    "min_idx = df['sent_compound'].idxmin()\n",
    "\n",
    "# Retrieve the scores\n",
    "max_score = df.loc[max_idx, 'sent_compound']\n",
    "min_score = df.loc[min_idx, 'sent_compound']\n",
    "\n",
    "# Print the full clean summaries along with their sentiment scores\n",
    "print(\"Most positive summary (compound = {:.3f}):\\n\".format(max_score))\n",
    "print(df.loc[max_idx, 'clean_summary'])\n",
    "\n",
    "\n",
    "print(\"\\n\\nMost negative summary (compound = {:.3f}):\\n\".format(min_score))\n",
    "print(df.loc[min_idx, 'clean_summary'])"
   ]
  },
  {
   "cell_type": "code",
   "execution_count": 90,
   "metadata": {},
   "outputs": [
    {
     "name": "stderr",
     "output_type": "stream",
     "text": [
      "C:\\Users\\c24085394\\AppData\\Local\\Temp\\ipykernel_4928\\2034477348.py:1: DeprecationWarning: DataFrameGroupBy.apply operated on the grouping columns. This behavior is deprecated, and in a future version of pandas the grouping columns will be excluded from the operation. Either pass `include_groups=False` to exclude the groupings or explicitly select the grouping columns after groupby to silence this warning.\n",
      "  daily_top = df.groupby('published_date').apply(lambda g: g.loc[g['sent_compound'].idxmax()]).reset_index(drop=True)\n"
     ]
    }
   ],
   "source": [
    "daily_top = df.groupby('published_date').apply(lambda g: g.loc[g['sent_compound'].idxmax()]).reset_index(drop=True)"
   ]
  },
  {
   "cell_type": "code",
   "execution_count": 91,
   "metadata": {},
   "outputs": [
    {
     "name": "stdout",
     "output_type": "stream",
     "text": [
      "\n",
      "📅 Best & Worst News Articles Each Day:\n",
      "\n",
      "\n",
      "📅 Date: 2025-06-03\n",
      "\n",
      "✅ Most Positive Article:\n",
      "🔹 Title: Gaza rallies in Hamburg: Unusual alliances\n",
      "📝 Summary: The Left Party, the Green Youth and the Jusos are joining the Council of Islamic Communities in Hamburg (Schura) The situation in Gaza continued to escalate, which is why it was now necessary to “also draw attention to it in the middle of society” Fatih Yildiz, Chairman of Schura Hamburg, said.\n",
      "🙂 Sentiment Score: 0.402\n",
      "🔗 URL: https://taz.de/Kundgebungen-in-Hamburg/!6088456/\n",
      "\n",
      "❌ Most Negative Article:\n",
      "🔹 Title: Israel Continues Attacks on Gaza\n",
      "📝 Summary: Israeli military strikes in different parts of the Gaza Strip have killed 35 Palestinians, including children. Seven Palestinians were killed and many others were injured in an Israeli attack on a camp of displaced persons. Six Palestinians have been killed in air strikes in eastern Gaza and the tow...\n",
      "🙁 Sentiment Score: -0.976\n",
      "🔗 URL: https://www.haberaktuel.com/israil-in-gazze-ye-yonelik-saldirilari-surediyor-3136031\n",
      "\n",
      "================================================================================\n",
      "\n",
      "\n",
      "📅 Date: 2025-06-04\n",
      "\n",
      "✅ Most Positive Article:\n",
      "🔹 Title: Gaza Humanitarian Foundation: Chaos and criticism\n",
      "📝 Summary: Gaza Humanitarian Foundation, supported by Israel and the United States, was created to manage the distribution of humanitarian aid in the Gaza Strip, a task previously handled by the United Nations. A few days after its operations began in the field, the foundation was already heavily criticized. F...\n",
      "🙂 Sentiment Score: 0.586\n",
      "🔗 URL: https://www.swissinfo.ch/ita/ginevra-internazionale/la-fondazione-umanitaria-di-gaza-distribuisce-aiuti-tra-caos-e-spargimenti-di-sangue/89460459?utm_source=multiple&utm_campaign=swi-rss&utm_medium=rss&utm_content=o\n",
      "\n",
      "❌ Most Negative Article:\n",
      "🔹 Title: Nahal Brigade operatives operating in northern Gaza\n",
      "📝 Summary: The forces of the Nahal Brigade are operating in the Gaza Strip as part of Operation Gideon, killing terrorists and destroying the terrorist infrastructure, the IDF spokesman said. The brigade is currently stationed in the Beit Lahia area of the northern Gaza Strip. In recent weeks, they have elimin...\n",
      "🙁 Sentiment Score: -0.972\n",
      "🔗 URL: https://www.newsru.co.il/israel/4jun2025/idf_gaza_120.html\n",
      "\n",
      "================================================================================\n",
      "\n",
      "\n",
      "📅 Date: 2025-06-05\n",
      "\n",
      "✅ Most Positive Article:\n",
      "🔹 Title: War-shaped holiday cheer in Gaza\n",
      "📝 Summary: Palestinian Rihan Sherab is preparing a different holiday in the southern Gaza Strip. In the midst of ongoing Israeli attacks and shelling, Serab and his family found shelter in a tent in the Mewasi area, where he produces toys for sheep specially for Eid al-Fitr. Every toy is a symbol of craftsmans...\n",
      "🙂 Sentiment Score: 0.875\n",
      "🔗 URL: https://tr.mehrnews.com/news/1927457/Gazze-de-sava%C5%9F%C4%B1n-g%C3%B6lgesinde-bayram-sevinci\n",
      "\n",
      "❌ Most Negative Article:\n",
      "🔹 Title: Aid distribution sites reopen in Gaza\n",
      "📝 Summary: two aid distribution sites reopened in Gaza after they were temporarily shut down due to violence in the region. From shortages and long wait times, to shootings and pauses, the new plan led by the Gaza Humanitarian Aid Foundation has been blighted with issues and continues to face criticism from ai...\n",
      "🙁 Sentiment Score: -0.822\n",
      "🔗 URL: https://www.mtpr.org/2025-06-05/aid-distribution-sites-reopen-in-gaza\n",
      "\n",
      "================================================================================\n",
      "\n",
      "\n",
      "📅 Date: 2025-06-06\n",
      "\n",
      "✅ Most Positive Article:\n",
      "🔹 Title: Distribution centres for humanitarian aid in Gaza closed\n",
      "📝 Summary: The GHF Foundation is responsible for the distribution of relief supplies in the Gaza Strip. How long the closure lasts is initially open. The population is called upon to stay away from the centres for their own safety.\n",
      "🙂 Sentiment Score: 0.802\n",
      "🔗 URL: https://www.stuttgarter-nachrichten.de/inhalt.gaza-krieg-verteilzentren-fuer-humanitaere-hilfe-in-gaza-geschlossen.66af2297-2fda-4b81-bfd5-ef4c7e9b9dd0.html\n",
      "\n",
      "❌ Most Negative Article:\n",
      "🔹 Title: Four Palestinian journalists killed in Israeli strike on Gaza hospital\n",
      "📝 Summary: Palestinian journalists Ismail Badah and Sulaiman Hani Hajjaj were killed in the Israeli bombing that directly targeted a press tent in Al-Ahli Baptist Hospital in Gaza City. The attack also injured several other journalists, including Islam Badr. With their deaths, the number of martyred journalist...\n",
      "🙁 Sentiment Score: -0.938\n",
      "🔗 URL: https://www.siasat.com/four-palestinian-journalists-killed-in-israeli-strike-on-gaza-hospital-3229767/\n",
      "\n",
      "================================================================================\n",
      "\n",
      "\n",
      "📅 Date: 2025-06-07\n",
      "\n",
      "✅ Most Positive Article:\n",
      "🔹 Title: Israeli attacks kill dozens in Gaza\n",
      "📝 Summary: Israeli army kills at least 15 people in the Gaza Strip, aid workers say. Israeli army fired warning shots when people were \"following in a way that put the troops at risk\" a witness from Gaza tells AFP news agency that first there were shots in the air, then there were shot at civilians.\n",
      "🙂 Sentiment Score: -0.891\n",
      "🔗 URL: https://www.upday.com/nl/tientallen-doden-in-gaza-door-israelische-aanvallen\n",
      "\n",
      "❌ Most Negative Article:\n",
      "🔹 Title: LIVE: Israel commits “massacres” in Gaza City, 66 dead across the Gaza Strip today\n",
      "📝 Summary: Israel commits \"massacre\" in Gaza City, 66 dead across the Gaza Strip Nine Palestinians killed today as aid distribution centers close again By Virginia Pietromarchi, Usaid Siddiqui and Jillian Kestler-D'Amours Published on June 7, 2025 The Civil Protection Agency in Gaza reports that an Israeli att...\n",
      "🙁 Sentiment Score: -0.964\n",
      "🔗 URL: https://www.sicht-vom-hochblauen.de/live-israel-begeht-massaker-in-gaza-stadt-66-tote-heute-im-gesamten-gazastreifen/\n",
      "\n",
      "================================================================================\n",
      "\n",
      "\n",
      "📅 Date: 2025-06-09\n",
      "\n",
      "✅ Most Positive Article:\n",
      "🔹 Title: A lot of criticism of the Gaza flotilla's attempts to intercept Gaza activists.\n",
      "📝 Summary: Amnesty International criticized Israel for its aid shipment of the \"Madleen\" the Freedom Flotilla Coalition ship was on its way to Gaza with emergency aid. Israel, as an occupying power, is legally obligated to provide adequate food and medicine to Gaza.\n",
      "🙂 Sentiment Score: 0.34\n",
      "🔗 URL: https://www.metronieuws.nl/in-het-nieuws/buitenland/2025/06/amnesty-kritiek-onderschepping-schip-gaza/\n",
      "\n",
      "❌ Most Negative Article:\n",
      "🔹 Title: Israel kills 47 more in Gaza in 24 hours\n",
      "📝 Summary: 4,649 Palestinians have been killed and 14,574 injured in Israeli military attacks in Gaza since 18 March. The number of those killed in Israeli attacks on the Gaza Strip since 7 October 2023 has reportedly risen to 54,927.\n",
      "🙁 Sentiment Score: -0.953\n",
      "🔗 URL: https://www.yenisafak.com/dunya/israil-gazzede-24-saatte-47-kisiyi-daha-katletti-4716208\n",
      "\n",
      "================================================================================\n",
      "\n",
      "\n",
      "📅 Date: 2025-06-10\n",
      "\n",
      "✅ Most Positive Article:\n",
      "🔹 Title: Israel expels Thunberg and other Gaza Ship Activists\n",
      "📝 Summary: Israel detains Greta Thunberg and other Gaza Ship Activists by dpa Updated 06/10/2025 - 04:55 AM Reading time: 3 min. Even today, the activists of the Gaza Ship are supposed to leave Israel by plane. The Israeli army intercepted the sailing ship \"Madleen\" en route to the Gaza Strip early Monday morn...\n",
      "🙂 Sentiment Score: -0.052\n",
      "🔗 URL: https://www.t-online.de/nachrichten/ausland/id_100760222/israel-weist-thunberg-und-andere-gaza-schiff-aktivisten-aus.html\n",
      "\n",
      "❌ Most Negative Article:\n",
      "🔹 Title: 3 medics, 1 journalist killed in Gaza\n",
      "📝 Summary: Health workers carrying out a mission to rescue the dead and wounded in the Et-Tuffah district of eastern Gaza have been bombed by the Israeli military. A written statement from the government's Media Office in Gaza said three medics were killed in the attack, as well as journalist Moumin Ebu al-Avf...\n",
      "🙁 Sentiment Score: -0.818\n",
      "🔗 URL: https://www.haberturk.com/gazze-de-3-saglik-gorevlisi-ile-1-gazeteci-olduruldu-3798105\n",
      "\n",
      "================================================================================\n",
      "\n"
     ]
    }
   ],
   "source": [
    "print(\"\\n📅 Best & Worst News Articles Each Day:\\n\")\n",
    "\n",
    "for date in sorted(df['published_date'].dropna().unique()):\n",
    "    print(f\"\\n📅 Date: {date}\")\n",
    "    \n",
    "    best = daily_best[daily_best['published_date'] == date].iloc[0]\n",
    "    print(f\"\\n✅ Most Positive Article:\")\n",
    "    print(f\"🔹 Title: {best['title']}\")\n",
    "    print(f\"📝 Summary: {best['summary'][:300]}{'...' if len(best['summary']) > 300 else ''}\")\n",
    "    print(f\"🙂 Sentiment Score: {round(best['sent_compound'], 3)}\")\n",
    "    print(f\"🔗 URL: {best['url']}\")\n",
    "\n",
    "    worst = daily_worst[daily_worst['published_date'] == date].iloc[0]\n",
    "    print(f\"\\n❌ Most Negative Article:\")\n",
    "    print(f\"🔹 Title: {worst['title']}\")\n",
    "    print(f\"📝 Summary: {worst['summary'][:300]}{'...' if len(worst['summary']) > 300 else ''}\")\n",
    "    print(f\"🙁 Sentiment Score: {round(worst['sent_compound'], 3)}\")\n",
    "    print(f\"🔗 URL: {worst['url']}\")\n",
    "    \n",
    "    print(\"\\n\" + \"=\" * 80 + \"\\n\")"
   ]
  }
 ],
 "metadata": {
  "kernelspec": {
   "display_name": "Python 3",
   "language": "python",
   "name": "python3"
  },
  "language_info": {
   "codemirror_mode": {
    "name": "ipython",
    "version": 3
   },
   "file_extension": ".py",
   "mimetype": "text/x-python",
   "name": "python",
   "nbconvert_exporter": "python",
   "pygments_lexer": "ipython3",
   "version": "3.12.3"
  }
 },
 "nbformat": 4,
 "nbformat_minor": 2
}
